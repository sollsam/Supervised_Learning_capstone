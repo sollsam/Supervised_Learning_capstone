{
 "cells": [
  {
   "cell_type": "code",
   "execution_count": 90,
   "metadata": {},
   "outputs": [],
   "source": [
    "# Imports \n",
    "\n",
    "import warnings\n",
    "warnings.filterwarnings('ignore') # Ignore all warnings\n",
    "\n",
    "%matplotlib inline\n",
    "import numpy as np\n",
    "import pandas as pd\n",
    "import time\n",
    "from sklearn.feature_selection import SelectKBest, SelectPercentile, f_classif\n",
    "from sklearn.neighbors import KNeighborsClassifier\n",
    "from sklearn.tree import DecisionTreeClassifier\n",
    "from sklearn.naive_bayes import MultinomialNB \n",
    "from sklearn.linear_model import Ridge, Lasso \n",
    "from sklearn.preprocessing import StandardScaler\n",
    "from sklearn.linear_model import LogisticRegression\n",
    "from sklearn.linear_model import RidgeClassifier\n",
    "from sklearn.model_selection import cross_val_score\n",
    "from sklearn import metrics\n",
    "\n",
    "from sklearn.feature_selection import f_regression\n",
    "from sklearn.metrics import roc_curve, auc, confusion_matrix\n",
    "from sklearn.metrics import classification_report\n",
    "from sklearn.model_selection import GridSearchCV\n",
    "\n",
    "from sklearn import ensemble\n",
    "from sklearn.svm import SVC\n",
    "\n",
    "from sklearn.decomposition import PCA\n",
    "from sklearn.model_selection import train_test_split\n",
    "import matplotlib.pyplot as plt\n",
    "import seaborn as sns\n",
    "import re\n",
    "from collections import Counter\n",
    "sns.set(style=\"whitegrid\")"
   ]
  },
  {
   "cell_type": "code",
   "execution_count": 2,
   "metadata": {},
   "outputs": [],
   "source": [
    "# Load and preview data\n",
    "data = pd.read_csv('WA_Fn-UseC_-Telco-Customer-Churn.csv')\n",
    "pd.options.display.max_columns = 50"
   ]
  },
  {
   "cell_type": "code",
   "execution_count": 3,
   "metadata": {
    "scrolled": false
   },
   "outputs": [
    {
     "data": {
      "text/html": [
       "<div>\n",
       "<style scoped>\n",
       "    .dataframe tbody tr th:only-of-type {\n",
       "        vertical-align: middle;\n",
       "    }\n",
       "\n",
       "    .dataframe tbody tr th {\n",
       "        vertical-align: top;\n",
       "    }\n",
       "\n",
       "    .dataframe thead th {\n",
       "        text-align: right;\n",
       "    }\n",
       "</style>\n",
       "<table border=\"1\" class=\"dataframe\">\n",
       "  <thead>\n",
       "    <tr style=\"text-align: right;\">\n",
       "      <th></th>\n",
       "      <th>customerID</th>\n",
       "      <th>gender</th>\n",
       "      <th>SeniorCitizen</th>\n",
       "      <th>Partner</th>\n",
       "      <th>Dependents</th>\n",
       "      <th>tenure</th>\n",
       "      <th>PhoneService</th>\n",
       "      <th>MultipleLines</th>\n",
       "      <th>InternetService</th>\n",
       "      <th>OnlineSecurity</th>\n",
       "      <th>OnlineBackup</th>\n",
       "      <th>DeviceProtection</th>\n",
       "      <th>TechSupport</th>\n",
       "      <th>StreamingTV</th>\n",
       "      <th>StreamingMovies</th>\n",
       "      <th>Contract</th>\n",
       "      <th>PaperlessBilling</th>\n",
       "      <th>PaymentMethod</th>\n",
       "      <th>MonthlyCharges</th>\n",
       "      <th>TotalCharges</th>\n",
       "      <th>Churn</th>\n",
       "    </tr>\n",
       "  </thead>\n",
       "  <tbody>\n",
       "    <tr>\n",
       "      <th>0</th>\n",
       "      <td>7590-VHVEG</td>\n",
       "      <td>Female</td>\n",
       "      <td>0</td>\n",
       "      <td>Yes</td>\n",
       "      <td>No</td>\n",
       "      <td>1</td>\n",
       "      <td>No</td>\n",
       "      <td>No phone service</td>\n",
       "      <td>DSL</td>\n",
       "      <td>No</td>\n",
       "      <td>Yes</td>\n",
       "      <td>No</td>\n",
       "      <td>No</td>\n",
       "      <td>No</td>\n",
       "      <td>No</td>\n",
       "      <td>Month-to-month</td>\n",
       "      <td>Yes</td>\n",
       "      <td>Electronic check</td>\n",
       "      <td>29.85</td>\n",
       "      <td>29.85</td>\n",
       "      <td>No</td>\n",
       "    </tr>\n",
       "    <tr>\n",
       "      <th>1</th>\n",
       "      <td>5575-GNVDE</td>\n",
       "      <td>Male</td>\n",
       "      <td>0</td>\n",
       "      <td>No</td>\n",
       "      <td>No</td>\n",
       "      <td>34</td>\n",
       "      <td>Yes</td>\n",
       "      <td>No</td>\n",
       "      <td>DSL</td>\n",
       "      <td>Yes</td>\n",
       "      <td>No</td>\n",
       "      <td>Yes</td>\n",
       "      <td>No</td>\n",
       "      <td>No</td>\n",
       "      <td>No</td>\n",
       "      <td>One year</td>\n",
       "      <td>No</td>\n",
       "      <td>Mailed check</td>\n",
       "      <td>56.95</td>\n",
       "      <td>1889.5</td>\n",
       "      <td>No</td>\n",
       "    </tr>\n",
       "    <tr>\n",
       "      <th>2</th>\n",
       "      <td>3668-QPYBK</td>\n",
       "      <td>Male</td>\n",
       "      <td>0</td>\n",
       "      <td>No</td>\n",
       "      <td>No</td>\n",
       "      <td>2</td>\n",
       "      <td>Yes</td>\n",
       "      <td>No</td>\n",
       "      <td>DSL</td>\n",
       "      <td>Yes</td>\n",
       "      <td>Yes</td>\n",
       "      <td>No</td>\n",
       "      <td>No</td>\n",
       "      <td>No</td>\n",
       "      <td>No</td>\n",
       "      <td>Month-to-month</td>\n",
       "      <td>Yes</td>\n",
       "      <td>Mailed check</td>\n",
       "      <td>53.85</td>\n",
       "      <td>108.15</td>\n",
       "      <td>Yes</td>\n",
       "    </tr>\n",
       "    <tr>\n",
       "      <th>3</th>\n",
       "      <td>7795-CFOCW</td>\n",
       "      <td>Male</td>\n",
       "      <td>0</td>\n",
       "      <td>No</td>\n",
       "      <td>No</td>\n",
       "      <td>45</td>\n",
       "      <td>No</td>\n",
       "      <td>No phone service</td>\n",
       "      <td>DSL</td>\n",
       "      <td>Yes</td>\n",
       "      <td>No</td>\n",
       "      <td>Yes</td>\n",
       "      <td>Yes</td>\n",
       "      <td>No</td>\n",
       "      <td>No</td>\n",
       "      <td>One year</td>\n",
       "      <td>No</td>\n",
       "      <td>Bank transfer (automatic)</td>\n",
       "      <td>42.30</td>\n",
       "      <td>1840.75</td>\n",
       "      <td>No</td>\n",
       "    </tr>\n",
       "    <tr>\n",
       "      <th>4</th>\n",
       "      <td>9237-HQITU</td>\n",
       "      <td>Female</td>\n",
       "      <td>0</td>\n",
       "      <td>No</td>\n",
       "      <td>No</td>\n",
       "      <td>2</td>\n",
       "      <td>Yes</td>\n",
       "      <td>No</td>\n",
       "      <td>Fiber optic</td>\n",
       "      <td>No</td>\n",
       "      <td>No</td>\n",
       "      <td>No</td>\n",
       "      <td>No</td>\n",
       "      <td>No</td>\n",
       "      <td>No</td>\n",
       "      <td>Month-to-month</td>\n",
       "      <td>Yes</td>\n",
       "      <td>Electronic check</td>\n",
       "      <td>70.70</td>\n",
       "      <td>151.65</td>\n",
       "      <td>Yes</td>\n",
       "    </tr>\n",
       "  </tbody>\n",
       "</table>\n",
       "</div>"
      ],
      "text/plain": [
       "   customerID  gender  SeniorCitizen Partner Dependents  tenure PhoneService  \\\n",
       "0  7590-VHVEG  Female              0     Yes         No       1           No   \n",
       "1  5575-GNVDE    Male              0      No         No      34          Yes   \n",
       "2  3668-QPYBK    Male              0      No         No       2          Yes   \n",
       "3  7795-CFOCW    Male              0      No         No      45           No   \n",
       "4  9237-HQITU  Female              0      No         No       2          Yes   \n",
       "\n",
       "      MultipleLines InternetService OnlineSecurity OnlineBackup  \\\n",
       "0  No phone service             DSL             No          Yes   \n",
       "1                No             DSL            Yes           No   \n",
       "2                No             DSL            Yes          Yes   \n",
       "3  No phone service             DSL            Yes           No   \n",
       "4                No     Fiber optic             No           No   \n",
       "\n",
       "  DeviceProtection TechSupport StreamingTV StreamingMovies        Contract  \\\n",
       "0               No          No          No              No  Month-to-month   \n",
       "1              Yes          No          No              No        One year   \n",
       "2               No          No          No              No  Month-to-month   \n",
       "3              Yes         Yes          No              No        One year   \n",
       "4               No          No          No              No  Month-to-month   \n",
       "\n",
       "  PaperlessBilling              PaymentMethod  MonthlyCharges TotalCharges  \\\n",
       "0              Yes           Electronic check           29.85        29.85   \n",
       "1               No               Mailed check           56.95       1889.5   \n",
       "2              Yes               Mailed check           53.85       108.15   \n",
       "3               No  Bank transfer (automatic)           42.30      1840.75   \n",
       "4              Yes           Electronic check           70.70       151.65   \n",
       "\n",
       "  Churn  \n",
       "0    No  \n",
       "1    No  \n",
       "2   Yes  \n",
       "3    No  \n",
       "4   Yes  "
      ]
     },
     "execution_count": 3,
     "metadata": {},
     "output_type": "execute_result"
    }
   ],
   "source": [
    "data.head()"
   ]
  },
  {
   "cell_type": "code",
   "execution_count": 4,
   "metadata": {
    "scrolled": true
   },
   "outputs": [
    {
     "data": {
      "text/plain": [
       "Index(['customerID', 'gender', 'SeniorCitizen', 'Partner', 'Dependents',\n",
       "       'tenure', 'PhoneService', 'MultipleLines', 'InternetService',\n",
       "       'OnlineSecurity', 'OnlineBackup', 'DeviceProtection', 'TechSupport',\n",
       "       'StreamingTV', 'StreamingMovies', 'Contract', 'PaperlessBilling',\n",
       "       'PaymentMethod', 'MonthlyCharges', 'TotalCharges', 'Churn'],\n",
       "      dtype='object')"
      ]
     },
     "execution_count": 4,
     "metadata": {},
     "output_type": "execute_result"
    }
   ],
   "source": [
    "# Variable names \n",
    "data.columns"
   ]
  },
  {
   "cell_type": "markdown",
   "metadata": {},
   "source": [
    "### About the Data\n",
    "\n",
    "This data set provides information about a telecom company's customer behavier which can be analysez to identify who is leaving the business and why they are leaving.\n",
    "\n",
    "The data set has 7043 rows and 21 columns. Each row represents a customer, each column contains customer’s attributes as described below.\n",
    "<li>Customer ID: Customer ID</li>\n",
    "<li>Gender: Customer gender (female, male)</li>\n",
    "<li>SeniorCitizen: Whether the customer is a senior citizen or not (1, 0)</li>\n",
    "<li>Partner: Whether the customer has a partner or not (Yes, No)</li>\n",
    "<li>Dependents: Whether the customer has dependents or not (Yes, No)</li>\n",
    "<li>tenure: Number of months the customer has stayed with the company</li>\n",
    "<li>PhoneService: Whether the customer has a phone service or not (Yes, No)</li>\n",
    "<li>MultipleLines: Whether the customer has multiple lines or not (Yes, No, No phone service)</li>\n",
    "<li>InternetService: Customer’s internet service provider (DSL, Fiber optic, No)</li>\n",
    "<li>OnlineSecurity: Whether the customer has online security or not (Yes, No, No internet service)</li>\n",
    "<li>OnlineBackup: Whether the customer has online backup or not (Yes, No, No internet service)</li>\n",
    "<li>DeviceProtection: Whether the customer has device protection or not (Yes, No, No internet service)</li>\n",
    "<li>TechSupport: Whether the customer has tech support or not (Yes, No, No internet service)</li>\n",
    "<li>StreamingTV: Whether the customer has streaming TV or not (Yes, No, No internet service)</li>\n",
    "<li>StreamingMovies: Whether the customer has streaming movies or not (Yes, No, No internet service)</li>\n",
    "<li>Contract: The contract term of the customer (Month-to-month, One year, Two year)</li>\n",
    "<li>PaperlessBilling: Whether the customer has paperless billing or not (Yes, No)</li>\n",
    "<li>PaymentMethod: The customer’s payment method (Electronic check, Mailed check, Bank transfer (automatic), Credit card (automatic))</li>\n",
    "<li>MonthlyCharges: The amount charged to the customer monthly</li>\n",
    "<li>TotalCharges: The total amount charged to the customer</li>\n",
    "<li>Churn: Whether the customers has left within the last month or not (Yes, No)</li>\n",
    "\n",
    "\n",
    "The data set is available [HERE](https://www.kaggle.com/blastchar/telco-customer-churn)"
   ]
  },
  {
   "cell_type": "markdown",
   "metadata": {},
   "source": [
    "### Cleaning the Data"
   ]
  },
  {
   "cell_type": "code",
   "execution_count": 5,
   "metadata": {
    "scrolled": false
   },
   "outputs": [
    {
     "name": "stdout",
     "output_type": "stream",
     "text": [
      "<class 'pandas.core.frame.DataFrame'>\n",
      "RangeIndex: 7043 entries, 0 to 7042\n",
      "Data columns (total 21 columns):\n",
      "customerID          7043 non-null object\n",
      "gender              7043 non-null object\n",
      "SeniorCitizen       7043 non-null int64\n",
      "Partner             7043 non-null object\n",
      "Dependents          7043 non-null object\n",
      "tenure              7043 non-null int64\n",
      "PhoneService        7043 non-null object\n",
      "MultipleLines       7043 non-null object\n",
      "InternetService     7043 non-null object\n",
      "OnlineSecurity      7043 non-null object\n",
      "OnlineBackup        7043 non-null object\n",
      "DeviceProtection    7043 non-null object\n",
      "TechSupport         7043 non-null object\n",
      "StreamingTV         7043 non-null object\n",
      "StreamingMovies     7043 non-null object\n",
      "Contract            7043 non-null object\n",
      "PaperlessBilling    7043 non-null object\n",
      "PaymentMethod       7043 non-null object\n",
      "MonthlyCharges      7043 non-null float64\n",
      "TotalCharges        7043 non-null object\n",
      "Churn               7043 non-null object\n",
      "dtypes: float64(1), int64(2), object(18)\n",
      "memory usage: 1.1+ MB\n"
     ]
    }
   ],
   "source": [
    "# Check shape and data types \n",
    "data.info()"
   ]
  },
  {
   "cell_type": "markdown",
   "metadata": {},
   "source": [
    "There are no missing values in the data frame. We have three continious variables and the rest are categorical variables most of which have binary values. 'SeniorCitizen' should be categorical variable as it only indicates whether the customer is a senior citizen or not. 'TotalCharges' should be converted to numeric data type.  The Customer ID column has no valuable information and can just be dropped.  "
   ]
  },
  {
   "cell_type": "code",
   "execution_count": 6,
   "metadata": {},
   "outputs": [
    {
     "data": {
      "text/plain": [
       "gender               object\n",
       "SeniorCitizen        object\n",
       "Partner              object\n",
       "Dependents           object\n",
       "tenure                int64\n",
       "PhoneService         object\n",
       "MultipleLines        object\n",
       "InternetService      object\n",
       "OnlineSecurity       object\n",
       "OnlineBackup         object\n",
       "DeviceProtection     object\n",
       "TechSupport          object\n",
       "StreamingTV          object\n",
       "StreamingMovies      object\n",
       "Contract             object\n",
       "PaperlessBilling     object\n",
       "PaymentMethod        object\n",
       "MonthlyCharges      float64\n",
       "TotalCharges        float64\n",
       "Churn                object\n",
       "dtype: object"
      ]
     },
     "execution_count": 6,
     "metadata": {},
     "output_type": "execute_result"
    }
   ],
   "source": [
    "# Convert SeniorCitizen to Categorical data type\n",
    "data['SeniorCitizen'] = data['SeniorCitizen'].astype('object')\n",
    "\n",
    "# Convert TotalCharges to numeric\n",
    "data['TotalCharges'] = pd.to_numeric(data['TotalCharges'], errors = 'coerce')\n",
    "\n",
    "# Drop unwanted column\n",
    "data = data.drop('customerID', 1)\n",
    "data.dtypes"
   ]
  },
  {
   "cell_type": "code",
   "execution_count": 7,
   "metadata": {},
   "outputs": [
    {
     "data": {
      "text/plain": [
       "gender               0\n",
       "SeniorCitizen        0\n",
       "Partner              0\n",
       "Dependents           0\n",
       "tenure               0\n",
       "PhoneService         0\n",
       "MultipleLines        0\n",
       "InternetService      0\n",
       "OnlineSecurity       0\n",
       "OnlineBackup         0\n",
       "DeviceProtection     0\n",
       "TechSupport          0\n",
       "StreamingTV          0\n",
       "StreamingMovies      0\n",
       "Contract             0\n",
       "PaperlessBilling     0\n",
       "PaymentMethod        0\n",
       "MonthlyCharges       0\n",
       "TotalCharges        11\n",
       "Churn                0\n",
       "dtype: int64"
      ]
     },
     "execution_count": 7,
     "metadata": {},
     "output_type": "execute_result"
    }
   ],
   "source": [
    "# Check for missing data after conversion\n",
    "data.isnull().sum()"
   ]
  },
  {
   "cell_type": "markdown",
   "metadata": {},
   "source": [
    "The data type conversion above created NaN values because values which can't be converted to numeric are recorded as NaN values by The errors = 'coerce' parameter we used. Since the number of columns with NaN values is too small, we'll go ahead and drop them without loosing information. "
   ]
  },
  {
   "cell_type": "code",
   "execution_count": 8,
   "metadata": {},
   "outputs": [],
   "source": [
    "data = data.dropna()"
   ]
  },
  {
   "cell_type": "code",
   "execution_count": 9,
   "metadata": {},
   "outputs": [
    {
     "data": {
      "image/png": "[encoded data removed]",
      "text/plain": [
       "<Figure size 432x288 with 1 Axes>"
      ]
     },
     "metadata": {},
     "output_type": "display_data"
    },
    {
     "name": "stdout",
     "output_type": "stream",
     "text": [
      "No     5163\n",
      "Yes    1869\n",
      "Name: Churn, dtype: int64\n"
     ]
    }
   ],
   "source": [
    "sns.countplot(x='Churn', data=data, palette='hls')\n",
    "plt.title('Churn vs Retained customers')\n",
    "plt.show()\n",
    "print(data['Churn'].value_counts())"
   ]
  },
  {
   "cell_type": "markdown",
   "metadata": {},
   "source": [
    "Out of the 7032 customers, 1869 (26.5%) have left the business and the rest 5163 are retained. "
   ]
  },
  {
   "cell_type": "markdown",
   "metadata": {},
   "source": [
    "## Data Exploration\n",
    "\n",
    "### Continious Variables "
   ]
  },
  {
   "cell_type": "code",
   "execution_count": 10,
   "metadata": {
    "scrolled": true
   },
   "outputs": [
    {
     "data": {
      "text/html": [
       "<div>\n",
       "<style scoped>\n",
       "    .dataframe tbody tr th:only-of-type {\n",
       "        vertical-align: middle;\n",
       "    }\n",
       "\n",
       "    .dataframe tbody tr th {\n",
       "        vertical-align: top;\n",
       "    }\n",
       "\n",
       "    .dataframe thead th {\n",
       "        text-align: right;\n",
       "    }\n",
       "</style>\n",
       "<table border=\"1\" class=\"dataframe\">\n",
       "  <thead>\n",
       "    <tr style=\"text-align: right;\">\n",
       "      <th></th>\n",
       "      <th>tenure</th>\n",
       "      <th>MonthlyCharges</th>\n",
       "      <th>TotalCharges</th>\n",
       "    </tr>\n",
       "  </thead>\n",
       "  <tbody>\n",
       "    <tr>\n",
       "      <th>count</th>\n",
       "      <td>7032.000000</td>\n",
       "      <td>7032.000000</td>\n",
       "      <td>7032.000000</td>\n",
       "    </tr>\n",
       "    <tr>\n",
       "      <th>mean</th>\n",
       "      <td>32.421786</td>\n",
       "      <td>64.798208</td>\n",
       "      <td>2283.300441</td>\n",
       "    </tr>\n",
       "    <tr>\n",
       "      <th>std</th>\n",
       "      <td>24.545260</td>\n",
       "      <td>30.085974</td>\n",
       "      <td>2266.771362</td>\n",
       "    </tr>\n",
       "    <tr>\n",
       "      <th>min</th>\n",
       "      <td>1.000000</td>\n",
       "      <td>18.250000</td>\n",
       "      <td>18.800000</td>\n",
       "    </tr>\n",
       "    <tr>\n",
       "      <th>25%</th>\n",
       "      <td>9.000000</td>\n",
       "      <td>35.587500</td>\n",
       "      <td>401.450000</td>\n",
       "    </tr>\n",
       "    <tr>\n",
       "      <th>50%</th>\n",
       "      <td>29.000000</td>\n",
       "      <td>70.350000</td>\n",
       "      <td>1397.475000</td>\n",
       "    </tr>\n",
       "    <tr>\n",
       "      <th>75%</th>\n",
       "      <td>55.000000</td>\n",
       "      <td>89.862500</td>\n",
       "      <td>3794.737500</td>\n",
       "    </tr>\n",
       "    <tr>\n",
       "      <th>max</th>\n",
       "      <td>72.000000</td>\n",
       "      <td>118.750000</td>\n",
       "      <td>8684.800000</td>\n",
       "    </tr>\n",
       "  </tbody>\n",
       "</table>\n",
       "</div>"
      ],
      "text/plain": [
       "            tenure  MonthlyCharges  TotalCharges\n",
       "count  7032.000000     7032.000000   7032.000000\n",
       "mean     32.421786       64.798208   2283.300441\n",
       "std      24.545260       30.085974   2266.771362\n",
       "min       1.000000       18.250000     18.800000\n",
       "25%       9.000000       35.587500    401.450000\n",
       "50%      29.000000       70.350000   1397.475000\n",
       "75%      55.000000       89.862500   3794.737500\n",
       "max      72.000000      118.750000   8684.800000"
      ]
     },
     "execution_count": 10,
     "metadata": {},
     "output_type": "execute_result"
    }
   ],
   "source": [
    "# Statistical summary for whode data set \n",
    "data.describe()"
   ]
  },
  {
   "cell_type": "markdown",
   "metadata": {},
   "source": [
    "We can see that the average tenure of customers is 32.42 months which is more than the median tenure. The monthly and total charges also have average values higher than the median value. \n",
    "\n",
    "By contrast, customers who leave the business have an average tenure of 18 months and they pay $10 more on monthly charges than the total customer average and about $13 more than retained customers as shown in the tables below. This indicates that customers might be leaving for a better price deal and at the same time it reflects any underlining rewards for loyal customers. "
   ]
  },
  {
   "cell_type": "code",
   "execution_count": 11,
   "metadata": {
    "scrolled": true
   },
   "outputs": [
    {
     "data": {
      "text/html": [
       "<div>\n",
       "<style scoped>\n",
       "    .dataframe tbody tr th:only-of-type {\n",
       "        vertical-align: middle;\n",
       "    }\n",
       "\n",
       "    .dataframe tbody tr th {\n",
       "        vertical-align: top;\n",
       "    }\n",
       "\n",
       "    .dataframe thead th {\n",
       "        text-align: right;\n",
       "    }\n",
       "</style>\n",
       "<table border=\"1\" class=\"dataframe\">\n",
       "  <thead>\n",
       "    <tr style=\"text-align: right;\">\n",
       "      <th></th>\n",
       "      <th>tenure</th>\n",
       "      <th>MonthlyCharges</th>\n",
       "      <th>TotalCharges</th>\n",
       "    </tr>\n",
       "  </thead>\n",
       "  <tbody>\n",
       "    <tr>\n",
       "      <th>count</th>\n",
       "      <td>1869.000000</td>\n",
       "      <td>1869.000000</td>\n",
       "      <td>1869.000000</td>\n",
       "    </tr>\n",
       "    <tr>\n",
       "      <th>mean</th>\n",
       "      <td>17.979133</td>\n",
       "      <td>74.441332</td>\n",
       "      <td>1531.796094</td>\n",
       "    </tr>\n",
       "    <tr>\n",
       "      <th>std</th>\n",
       "      <td>19.531123</td>\n",
       "      <td>24.666053</td>\n",
       "      <td>1890.822994</td>\n",
       "    </tr>\n",
       "    <tr>\n",
       "      <th>min</th>\n",
       "      <td>1.000000</td>\n",
       "      <td>18.850000</td>\n",
       "      <td>18.850000</td>\n",
       "    </tr>\n",
       "    <tr>\n",
       "      <th>25%</th>\n",
       "      <td>2.000000</td>\n",
       "      <td>56.150000</td>\n",
       "      <td>134.500000</td>\n",
       "    </tr>\n",
       "    <tr>\n",
       "      <th>50%</th>\n",
       "      <td>10.000000</td>\n",
       "      <td>79.650000</td>\n",
       "      <td>703.550000</td>\n",
       "    </tr>\n",
       "    <tr>\n",
       "      <th>75%</th>\n",
       "      <td>29.000000</td>\n",
       "      <td>94.200000</td>\n",
       "      <td>2331.300000</td>\n",
       "    </tr>\n",
       "    <tr>\n",
       "      <th>max</th>\n",
       "      <td>72.000000</td>\n",
       "      <td>118.350000</td>\n",
       "      <td>8684.800000</td>\n",
       "    </tr>\n",
       "  </tbody>\n",
       "</table>\n",
       "</div>"
      ],
      "text/plain": [
       "            tenure  MonthlyCharges  TotalCharges\n",
       "count  1869.000000     1869.000000   1869.000000\n",
       "mean     17.979133       74.441332   1531.796094\n",
       "std      19.531123       24.666053   1890.822994\n",
       "min       1.000000       18.850000     18.850000\n",
       "25%       2.000000       56.150000    134.500000\n",
       "50%      10.000000       79.650000    703.550000\n",
       "75%      29.000000       94.200000   2331.300000\n",
       "max      72.000000      118.350000   8684.800000"
      ]
     },
     "execution_count": 11,
     "metadata": {},
     "output_type": "execute_result"
    }
   ],
   "source": [
    "# Statistical summary for churn customers  \n",
    "data[data['Churn'] == 'Yes'].describe()"
   ]
  },
  {
   "cell_type": "code",
   "execution_count": 12,
   "metadata": {},
   "outputs": [
    {
     "data": {
      "text/html": [
       "<div>\n",
       "<style scoped>\n",
       "    .dataframe tbody tr th:only-of-type {\n",
       "        vertical-align: middle;\n",
       "    }\n",
       "\n",
       "    .dataframe tbody tr th {\n",
       "        vertical-align: top;\n",
       "    }\n",
       "\n",
       "    .dataframe thead th {\n",
       "        text-align: right;\n",
       "    }\n",
       "</style>\n",
       "<table border=\"1\" class=\"dataframe\">\n",
       "  <thead>\n",
       "    <tr style=\"text-align: right;\">\n",
       "      <th></th>\n",
       "      <th>tenure</th>\n",
       "      <th>MonthlyCharges</th>\n",
       "      <th>TotalCharges</th>\n",
       "    </tr>\n",
       "  </thead>\n",
       "  <tbody>\n",
       "    <tr>\n",
       "      <th>count</th>\n",
       "      <td>5163.00000</td>\n",
       "      <td>5163.000000</td>\n",
       "      <td>5163.000000</td>\n",
       "    </tr>\n",
       "    <tr>\n",
       "      <th>mean</th>\n",
       "      <td>37.65001</td>\n",
       "      <td>61.307408</td>\n",
       "      <td>2555.344141</td>\n",
       "    </tr>\n",
       "    <tr>\n",
       "      <th>std</th>\n",
       "      <td>24.07694</td>\n",
       "      <td>31.094557</td>\n",
       "      <td>2329.456984</td>\n",
       "    </tr>\n",
       "    <tr>\n",
       "      <th>min</th>\n",
       "      <td>1.00000</td>\n",
       "      <td>18.250000</td>\n",
       "      <td>18.800000</td>\n",
       "    </tr>\n",
       "    <tr>\n",
       "      <th>25%</th>\n",
       "      <td>15.00000</td>\n",
       "      <td>25.100000</td>\n",
       "      <td>577.825000</td>\n",
       "    </tr>\n",
       "    <tr>\n",
       "      <th>50%</th>\n",
       "      <td>38.00000</td>\n",
       "      <td>64.450000</td>\n",
       "      <td>1683.600000</td>\n",
       "    </tr>\n",
       "    <tr>\n",
       "      <th>75%</th>\n",
       "      <td>61.00000</td>\n",
       "      <td>88.475000</td>\n",
       "      <td>4264.125000</td>\n",
       "    </tr>\n",
       "    <tr>\n",
       "      <th>max</th>\n",
       "      <td>72.00000</td>\n",
       "      <td>118.750000</td>\n",
       "      <td>8672.450000</td>\n",
       "    </tr>\n",
       "  </tbody>\n",
       "</table>\n",
       "</div>"
      ],
      "text/plain": [
       "           tenure  MonthlyCharges  TotalCharges\n",
       "count  5163.00000     5163.000000   5163.000000\n",
       "mean     37.65001       61.307408   2555.344141\n",
       "std      24.07694       31.094557   2329.456984\n",
       "min       1.00000       18.250000     18.800000\n",
       "25%      15.00000       25.100000    577.825000\n",
       "50%      38.00000       64.450000   1683.600000\n",
       "75%      61.00000       88.475000   4264.125000\n",
       "max      72.00000      118.750000   8672.450000"
      ]
     },
     "execution_count": 12,
     "metadata": {},
     "output_type": "execute_result"
    }
   ],
   "source": [
    "# Statistical summary for retained customers \n",
    "data[data['Churn'] == 'No'].describe()"
   ]
  },
  {
   "cell_type": "markdown",
   "metadata": {},
   "source": [
    "It can be infered from the tables above and the graph below that tenure and monthly charges are good estimators of churn behavior. The churn customer group is represented mostly by those who have a short tenure but pay more than the other group. "
   ]
  },
  {
   "cell_type": "code",
   "execution_count": 13,
   "metadata": {},
   "outputs": [
    {
     "data": {
      "image/png": "[encoded data removed]",
      "text/plain": [
       "<Figure size 864x432 with 2 Axes>"
      ]
     },
     "metadata": {},
     "output_type": "display_data"
    }
   ],
   "source": [
    "# Visualize relation betwwn churn and continious variables\n",
    "plt.figure(figsize=(12,6))\n",
    "plt.subplot(1,2,1)\n",
    "sns.violinplot(x='Churn', y='tenure',\n",
    "                 data=data, palette='PRGn')\n",
    "plt.title('Churn vs Tenure')\n",
    "\n",
    "plt.subplot(1,2,2)\n",
    "sns.violinplot(x='Churn', y='MonthlyCharges',\n",
    "                 data=data, palette='PRGn')\n",
    "plt.title('Churn vs Monthly Charge')\n",
    "\n",
    "plt.show()"
   ]
  },
  {
   "cell_type": "markdown",
   "metadata": {},
   "source": [
    "Unsurprisingly, the longer the customer stays with the company, the more revenue the company generates and the relation between the two is a linear one as shown below. "
   ]
  },
  {
   "cell_type": "code",
   "execution_count": 14,
   "metadata": {
    "scrolled": false
   },
   "outputs": [
    {
     "data": {
      "image/png": "[encoded data removed]",
      "text/plain": [
       "<Figure size 792x432 with 1 Axes>"
      ]
     },
     "metadata": {},
     "output_type": "display_data"
    }
   ],
   "source": [
    "# Tenure vs total charge \n",
    "plt.figure(figsize=(11,6))\n",
    "plt.scatter(x=data['TotalCharges'], y=data['tenure'])\n",
    "plt.xlabel('Total Charges')\n",
    "plt.ylabel('Tenure')\n",
    "plt.title('Relation between tenure and total charges')\n",
    "plt.show()"
   ]
  },
  {
   "cell_type": "code",
   "execution_count": 15,
   "metadata": {},
   "outputs": [
    {
     "data": {
      "image/png": "[encoded data removed]",
      "text/plain": [
       "<Figure size 540x540 with 12 Axes>"
      ]
     },
     "metadata": {},
     "output_type": "display_data"
    }
   ],
   "source": [
    "# pairwise plots\n",
    "continous = data[['tenure', 'MonthlyCharges', 'TotalCharges']]\n",
    "sns.pairplot(continous)\n",
    "plt.show()"
   ]
  },
  {
   "cell_type": "markdown",
   "metadata": {},
   "source": [
    "From the distribution of the tenure variable in the right left corner of the plot above, we can see that there is a high number of customers with only few months of tenure. We have seen in previous analysis that most of the cusomers who left the business happen to the ones who stayed with the company the shortest. Understanding this group of customers is important for reducing the churn rate. Monthly charges are higher for newer customers. "
   ]
  },
  {
   "cell_type": "code",
   "execution_count": 16,
   "metadata": {},
   "outputs": [
    {
     "data": {
      "text/plain": [
       "<matplotlib.axes._subplots.AxesSubplot at 0x298ca69f7b8>"
      ]
     },
     "execution_count": 16,
     "metadata": {},
     "output_type": "execute_result"
    },
    {
     "data": {
      "image/png": "[encoded data removed]",
      "text/plain": [
       "<Figure size 1152x432 with 1 Axes>"
      ]
     },
     "metadata": {},
     "output_type": "display_data"
    }
   ],
   "source": [
    "# Distribution of tenure\n",
    "plt.figure(figsize = (16,6))\n",
    "sns.countplot(data['tenure'])"
   ]
  },
  {
   "cell_type": "code",
   "execution_count": 17,
   "metadata": {},
   "outputs": [
    {
     "data": {
      "text/plain": [
       "Text(0.5,1,'Correlation')"
      ]
     },
     "execution_count": 17,
     "metadata": {},
     "output_type": "execute_result"
    },
    {
     "data": {
      "image/png": "[encoded data removed]",
      "text/plain": [
       "<Figure size 792x432 with 2 Axes>"
      ]
     },
     "metadata": {},
     "output_type": "display_data"
    }
   ],
   "source": [
    "# Visualize correlations between continious variables\n",
    "plt.figure(figsize=(11,6))\n",
    "sns.heatmap(data.corr(),linewidth = 1,annot= True)\n",
    "plt.title('Correlation')"
   ]
  },
  {
   "cell_type": "markdown",
   "metadata": {},
   "source": [
    "TotalCharge is the product of MontlyCharges and tenure. As a result it is highly correlated with the other two. We will drop the TotalCharge variable when building our models later to avoid overfitting. MonthyCharges and tenure have a low colinearity with eachother and they are suitable for modeling. "
   ]
  },
  {
   "cell_type": "markdown",
   "metadata": {},
   "source": [
    "### Categorical Variables "
   ]
  },
  {
   "cell_type": "code",
   "execution_count": 18,
   "metadata": {
    "scrolled": false
   },
   "outputs": [
    {
     "data": {
      "text/html": [
       "<div>\n",
       "<style scoped>\n",
       "    .dataframe tbody tr th:only-of-type {\n",
       "        vertical-align: middle;\n",
       "    }\n",
       "\n",
       "    .dataframe tbody tr th {\n",
       "        vertical-align: top;\n",
       "    }\n",
       "\n",
       "    .dataframe thead th {\n",
       "        text-align: right;\n",
       "    }\n",
       "</style>\n",
       "<table border=\"1\" class=\"dataframe\">\n",
       "  <thead>\n",
       "    <tr style=\"text-align: right;\">\n",
       "      <th></th>\n",
       "      <th>gender</th>\n",
       "      <th>SeniorCitizen</th>\n",
       "      <th>Partner</th>\n",
       "      <th>Dependents</th>\n",
       "      <th>PhoneService</th>\n",
       "      <th>MultipleLines</th>\n",
       "      <th>InternetService</th>\n",
       "      <th>OnlineSecurity</th>\n",
       "      <th>OnlineBackup</th>\n",
       "      <th>DeviceProtection</th>\n",
       "      <th>TechSupport</th>\n",
       "      <th>StreamingTV</th>\n",
       "      <th>StreamingMovies</th>\n",
       "      <th>Contract</th>\n",
       "      <th>PaperlessBilling</th>\n",
       "      <th>PaymentMethod</th>\n",
       "      <th>Churn</th>\n",
       "    </tr>\n",
       "  </thead>\n",
       "  <tbody>\n",
       "    <tr>\n",
       "      <th>count</th>\n",
       "      <td>7032</td>\n",
       "      <td>7032</td>\n",
       "      <td>7032</td>\n",
       "      <td>7032</td>\n",
       "      <td>7032</td>\n",
       "      <td>7032</td>\n",
       "      <td>7032</td>\n",
       "      <td>7032</td>\n",
       "      <td>7032</td>\n",
       "      <td>7032</td>\n",
       "      <td>7032</td>\n",
       "      <td>7032</td>\n",
       "      <td>7032</td>\n",
       "      <td>7032</td>\n",
       "      <td>7032</td>\n",
       "      <td>7032</td>\n",
       "      <td>7032</td>\n",
       "    </tr>\n",
       "    <tr>\n",
       "      <th>unique</th>\n",
       "      <td>2</td>\n",
       "      <td>2</td>\n",
       "      <td>2</td>\n",
       "      <td>2</td>\n",
       "      <td>2</td>\n",
       "      <td>3</td>\n",
       "      <td>3</td>\n",
       "      <td>3</td>\n",
       "      <td>3</td>\n",
       "      <td>3</td>\n",
       "      <td>3</td>\n",
       "      <td>3</td>\n",
       "      <td>3</td>\n",
       "      <td>3</td>\n",
       "      <td>2</td>\n",
       "      <td>4</td>\n",
       "      <td>2</td>\n",
       "    </tr>\n",
       "    <tr>\n",
       "      <th>top</th>\n",
       "      <td>Male</td>\n",
       "      <td>0</td>\n",
       "      <td>No</td>\n",
       "      <td>No</td>\n",
       "      <td>Yes</td>\n",
       "      <td>No</td>\n",
       "      <td>Fiber optic</td>\n",
       "      <td>No</td>\n",
       "      <td>No</td>\n",
       "      <td>No</td>\n",
       "      <td>No</td>\n",
       "      <td>No</td>\n",
       "      <td>No</td>\n",
       "      <td>Month-to-month</td>\n",
       "      <td>Yes</td>\n",
       "      <td>Electronic check</td>\n",
       "      <td>No</td>\n",
       "    </tr>\n",
       "    <tr>\n",
       "      <th>freq</th>\n",
       "      <td>3549</td>\n",
       "      <td>5890</td>\n",
       "      <td>3639</td>\n",
       "      <td>4933</td>\n",
       "      <td>6352</td>\n",
       "      <td>3385</td>\n",
       "      <td>3096</td>\n",
       "      <td>3497</td>\n",
       "      <td>3087</td>\n",
       "      <td>3094</td>\n",
       "      <td>3472</td>\n",
       "      <td>2809</td>\n",
       "      <td>2781</td>\n",
       "      <td>3875</td>\n",
       "      <td>4168</td>\n",
       "      <td>2365</td>\n",
       "      <td>5163</td>\n",
       "    </tr>\n",
       "  </tbody>\n",
       "</table>\n",
       "</div>"
      ],
      "text/plain": [
       "       gender  SeniorCitizen Partner Dependents PhoneService MultipleLines  \\\n",
       "count    7032           7032    7032       7032         7032          7032   \n",
       "unique      2              2       2          2            2             3   \n",
       "top      Male              0      No         No          Yes            No   \n",
       "freq     3549           5890    3639       4933         6352          3385   \n",
       "\n",
       "       InternetService OnlineSecurity OnlineBackup DeviceProtection  \\\n",
       "count             7032           7032         7032             7032   \n",
       "unique               3              3            3                3   \n",
       "top        Fiber optic             No           No               No   \n",
       "freq              3096           3497         3087             3094   \n",
       "\n",
       "       TechSupport StreamingTV StreamingMovies        Contract  \\\n",
       "count         7032        7032            7032            7032   \n",
       "unique           3           3               3               3   \n",
       "top             No          No              No  Month-to-month   \n",
       "freq          3472        2809            2781            3875   \n",
       "\n",
       "       PaperlessBilling     PaymentMethod Churn  \n",
       "count              7032              7032  7032  \n",
       "unique                2                 4     2  \n",
       "top                 Yes  Electronic check    No  \n",
       "freq               4168              2365  5163  "
      ]
     },
     "execution_count": 18,
     "metadata": {},
     "output_type": "execute_result"
    }
   ],
   "source": [
    "# Quick summary \n",
    "data.describe(include = 'object')"
   ]
  },
  {
   "cell_type": "code",
   "execution_count": 19,
   "metadata": {},
   "outputs": [
    {
     "data": {
      "text/plain": [
       "1142"
      ]
     },
     "execution_count": 19,
     "metadata": {},
     "output_type": "execute_result"
    }
   ],
   "source": [
    "7032-5890"
   ]
  },
  {
   "cell_type": "markdown",
   "metadata": {},
   "source": [
    "From the table above, we can observe that:\n",
    "<ul>\n",
    "<li>Male and female customers are almost evenly represented </li>\n",
    "<li>Senior citizens make up the minority of customer groups</li>\n",
    "<li>Most customers have Phone services and about half have multiple lines</li>\n",
    "<li>Electronic check is the most prefered payment method, and</li>\n",
    "<li>Customers prefer paperless billing and month-to-month contracts</li>\n",
    "</ul>"
   ]
  },
  {
   "cell_type": "code",
   "execution_count": 20,
   "metadata": {
    "scrolled": true
   },
   "outputs": [
    {
     "data": {
      "text/html": [
       "<div>\n",
       "<style scoped>\n",
       "    .dataframe tbody tr th:only-of-type {\n",
       "        vertical-align: middle;\n",
       "    }\n",
       "\n",
       "    .dataframe tbody tr th {\n",
       "        vertical-align: top;\n",
       "    }\n",
       "\n",
       "    .dataframe thead th {\n",
       "        text-align: right;\n",
       "    }\n",
       "</style>\n",
       "<table border=\"1\" class=\"dataframe\">\n",
       "  <thead>\n",
       "    <tr style=\"text-align: right;\">\n",
       "      <th></th>\n",
       "      <th>gender</th>\n",
       "      <th>SeniorCitizen</th>\n",
       "      <th>Partner</th>\n",
       "      <th>Dependents</th>\n",
       "      <th>PhoneService</th>\n",
       "      <th>MultipleLines</th>\n",
       "      <th>InternetService</th>\n",
       "      <th>OnlineSecurity</th>\n",
       "      <th>OnlineBackup</th>\n",
       "      <th>DeviceProtection</th>\n",
       "      <th>TechSupport</th>\n",
       "      <th>StreamingTV</th>\n",
       "      <th>StreamingMovies</th>\n",
       "      <th>Contract</th>\n",
       "      <th>PaperlessBilling</th>\n",
       "      <th>PaymentMethod</th>\n",
       "      <th>Churn</th>\n",
       "    </tr>\n",
       "  </thead>\n",
       "  <tbody>\n",
       "    <tr>\n",
       "      <th>0</th>\n",
       "      <td>Female</td>\n",
       "      <td>0</td>\n",
       "      <td>Yes</td>\n",
       "      <td>No</td>\n",
       "      <td>No</td>\n",
       "      <td>No phone service</td>\n",
       "      <td>DSL</td>\n",
       "      <td>No</td>\n",
       "      <td>Yes</td>\n",
       "      <td>No</td>\n",
       "      <td>No</td>\n",
       "      <td>No</td>\n",
       "      <td>No</td>\n",
       "      <td>Month-to-month</td>\n",
       "      <td>Yes</td>\n",
       "      <td>Electronic check</td>\n",
       "      <td>No</td>\n",
       "    </tr>\n",
       "    <tr>\n",
       "      <th>1</th>\n",
       "      <td>Male</td>\n",
       "      <td>0</td>\n",
       "      <td>No</td>\n",
       "      <td>No</td>\n",
       "      <td>Yes</td>\n",
       "      <td>No</td>\n",
       "      <td>DSL</td>\n",
       "      <td>Yes</td>\n",
       "      <td>No</td>\n",
       "      <td>Yes</td>\n",
       "      <td>No</td>\n",
       "      <td>No</td>\n",
       "      <td>No</td>\n",
       "      <td>One year</td>\n",
       "      <td>No</td>\n",
       "      <td>Mailed check</td>\n",
       "      <td>No</td>\n",
       "    </tr>\n",
       "    <tr>\n",
       "      <th>2</th>\n",
       "      <td>Male</td>\n",
       "      <td>0</td>\n",
       "      <td>No</td>\n",
       "      <td>No</td>\n",
       "      <td>Yes</td>\n",
       "      <td>No</td>\n",
       "      <td>DSL</td>\n",
       "      <td>Yes</td>\n",
       "      <td>Yes</td>\n",
       "      <td>No</td>\n",
       "      <td>No</td>\n",
       "      <td>No</td>\n",
       "      <td>No</td>\n",
       "      <td>Month-to-month</td>\n",
       "      <td>Yes</td>\n",
       "      <td>Mailed check</td>\n",
       "      <td>Yes</td>\n",
       "    </tr>\n",
       "    <tr>\n",
       "      <th>3</th>\n",
       "      <td>Male</td>\n",
       "      <td>0</td>\n",
       "      <td>No</td>\n",
       "      <td>No</td>\n",
       "      <td>No</td>\n",
       "      <td>No phone service</td>\n",
       "      <td>DSL</td>\n",
       "      <td>Yes</td>\n",
       "      <td>No</td>\n",
       "      <td>Yes</td>\n",
       "      <td>Yes</td>\n",
       "      <td>No</td>\n",
       "      <td>No</td>\n",
       "      <td>One year</td>\n",
       "      <td>No</td>\n",
       "      <td>Bank transfer (automatic)</td>\n",
       "      <td>No</td>\n",
       "    </tr>\n",
       "    <tr>\n",
       "      <th>4</th>\n",
       "      <td>Female</td>\n",
       "      <td>0</td>\n",
       "      <td>No</td>\n",
       "      <td>No</td>\n",
       "      <td>Yes</td>\n",
       "      <td>No</td>\n",
       "      <td>Fiber optic</td>\n",
       "      <td>No</td>\n",
       "      <td>No</td>\n",
       "      <td>No</td>\n",
       "      <td>No</td>\n",
       "      <td>No</td>\n",
       "      <td>No</td>\n",
       "      <td>Month-to-month</td>\n",
       "      <td>Yes</td>\n",
       "      <td>Electronic check</td>\n",
       "      <td>Yes</td>\n",
       "    </tr>\n",
       "  </tbody>\n",
       "</table>\n",
       "</div>"
      ],
      "text/plain": [
       "   gender SeniorCitizen Partner Dependents PhoneService     MultipleLines  \\\n",
       "0  Female             0     Yes         No           No  No phone service   \n",
       "1    Male             0      No         No          Yes                No   \n",
       "2    Male             0      No         No          Yes                No   \n",
       "3    Male             0      No         No           No  No phone service   \n",
       "4  Female             0      No         No          Yes                No   \n",
       "\n",
       "  InternetService OnlineSecurity OnlineBackup DeviceProtection TechSupport  \\\n",
       "0             DSL             No          Yes               No          No   \n",
       "1             DSL            Yes           No              Yes          No   \n",
       "2             DSL            Yes          Yes               No          No   \n",
       "3             DSL            Yes           No              Yes         Yes   \n",
       "4     Fiber optic             No           No               No          No   \n",
       "\n",
       "  StreamingTV StreamingMovies        Contract PaperlessBilling  \\\n",
       "0          No              No  Month-to-month              Yes   \n",
       "1          No              No        One year               No   \n",
       "2          No              No  Month-to-month              Yes   \n",
       "3          No              No        One year               No   \n",
       "4          No              No  Month-to-month              Yes   \n",
       "\n",
       "               PaymentMethod Churn  \n",
       "0           Electronic check    No  \n",
       "1               Mailed check    No  \n",
       "2               Mailed check   Yes  \n",
       "3  Bank transfer (automatic)    No  \n",
       "4           Electronic check   Yes  "
      ]
     },
     "execution_count": 20,
     "metadata": {},
     "output_type": "execute_result"
    }
   ],
   "source": [
    "# Categorical variables \n",
    "categorical = data.select_dtypes(include='object')\n",
    "categorical.head()"
   ]
  },
  {
   "cell_type": "code",
   "execution_count": 21,
   "metadata": {},
   "outputs": [
    {
     "data": {
      "image/png": "[encoded data removed]",
      "text/plain": [
       "<Figure size 1152x1152 with 16 Axes>"
      ]
     },
     "metadata": {},
     "output_type": "display_data"
    }
   ],
   "source": [
    "fig,ax =plt.subplots(4,4,figsize=(16,16))\n",
    "fig.subplots_adjust(hspace=.5)\n",
    "for i in range(0,16):\n",
    "    g = sns.countplot(x=categorical.iloc[:,i], hue=categorical['Churn'], ax=ax[divmod(i,4)])\n",
    "    g.legend(bbox_to_anchor=(0., 1.02, 1., .102), loc=3, mode=\"expand\", borderaxespad=0.) if i==0 else g.legend_.remove()\n",
    "for tick in ax[3,3].get_xticklabels():\n",
    "    tick.set_rotation(90)"
   ]
  },
  {
   "cell_type": "markdown",
   "metadata": {},
   "source": [
    "From the graph above we can observe that customer churn is higher in the following group of customers or with the following attributes:\n",
    "<ul>\n",
    "    <li>Senior citizens</li>\n",
    "    <li>Customers who do not have partners</li>\n",
    "    <li>Customers who do not have dependents</li>\n",
    "    <li>Customers who have fiber optics internet service</li>\n",
    "    <li>Customers who do not have either of online security, online backup, device protection, or tech support</li>\n",
    "    <li>Customers who use Electronic check as a payment method</li>\n",
    "</ul>\n",
    "\n",
    "Let's take a closer look at some of these categories and their relation with the continious variables. "
   ]
  },
  {
   "cell_type": "code",
   "execution_count": 22,
   "metadata": {
    "scrolled": true
   },
   "outputs": [
    {
     "data": {
      "text/html": [
       "<div>\n",
       "<style scoped>\n",
       "    .dataframe tbody tr th:only-of-type {\n",
       "        vertical-align: middle;\n",
       "    }\n",
       "\n",
       "    .dataframe tbody tr th {\n",
       "        vertical-align: top;\n",
       "    }\n",
       "\n",
       "    .dataframe thead th {\n",
       "        text-align: right;\n",
       "    }\n",
       "</style>\n",
       "<table border=\"1\" class=\"dataframe\">\n",
       "  <thead>\n",
       "    <tr style=\"text-align: right;\">\n",
       "      <th></th>\n",
       "      <th>gender</th>\n",
       "      <th>SeniorCitizen</th>\n",
       "      <th>Partner</th>\n",
       "      <th>Dependents</th>\n",
       "      <th>tenure</th>\n",
       "      <th>PhoneService</th>\n",
       "      <th>MultipleLines</th>\n",
       "      <th>InternetService</th>\n",
       "      <th>OnlineSecurity</th>\n",
       "      <th>OnlineBackup</th>\n",
       "      <th>DeviceProtection</th>\n",
       "      <th>TechSupport</th>\n",
       "      <th>StreamingTV</th>\n",
       "      <th>StreamingMovies</th>\n",
       "      <th>Contract</th>\n",
       "      <th>PaperlessBilling</th>\n",
       "      <th>PaymentMethod</th>\n",
       "      <th>MonthlyCharges</th>\n",
       "      <th>TotalCharges</th>\n",
       "      <th>Churn</th>\n",
       "    </tr>\n",
       "  </thead>\n",
       "  <tbody>\n",
       "    <tr>\n",
       "      <th>2</th>\n",
       "      <td>Male</td>\n",
       "      <td>0</td>\n",
       "      <td>No</td>\n",
       "      <td>No</td>\n",
       "      <td>2</td>\n",
       "      <td>Yes</td>\n",
       "      <td>No</td>\n",
       "      <td>DSL</td>\n",
       "      <td>Yes</td>\n",
       "      <td>Yes</td>\n",
       "      <td>No</td>\n",
       "      <td>No</td>\n",
       "      <td>No</td>\n",
       "      <td>No</td>\n",
       "      <td>Month-to-month</td>\n",
       "      <td>Yes</td>\n",
       "      <td>Mailed check</td>\n",
       "      <td>53.85</td>\n",
       "      <td>108.15</td>\n",
       "      <td>Yes</td>\n",
       "    </tr>\n",
       "    <tr>\n",
       "      <th>4</th>\n",
       "      <td>Female</td>\n",
       "      <td>0</td>\n",
       "      <td>No</td>\n",
       "      <td>No</td>\n",
       "      <td>2</td>\n",
       "      <td>Yes</td>\n",
       "      <td>No</td>\n",
       "      <td>Fiber optic</td>\n",
       "      <td>No</td>\n",
       "      <td>No</td>\n",
       "      <td>No</td>\n",
       "      <td>No</td>\n",
       "      <td>No</td>\n",
       "      <td>No</td>\n",
       "      <td>Month-to-month</td>\n",
       "      <td>Yes</td>\n",
       "      <td>Electronic check</td>\n",
       "      <td>70.70</td>\n",
       "      <td>151.65</td>\n",
       "      <td>Yes</td>\n",
       "    </tr>\n",
       "    <tr>\n",
       "      <th>5</th>\n",
       "      <td>Female</td>\n",
       "      <td>0</td>\n",
       "      <td>No</td>\n",
       "      <td>No</td>\n",
       "      <td>8</td>\n",
       "      <td>Yes</td>\n",
       "      <td>Yes</td>\n",
       "      <td>Fiber optic</td>\n",
       "      <td>No</td>\n",
       "      <td>No</td>\n",
       "      <td>Yes</td>\n",
       "      <td>No</td>\n",
       "      <td>Yes</td>\n",
       "      <td>Yes</td>\n",
       "      <td>Month-to-month</td>\n",
       "      <td>Yes</td>\n",
       "      <td>Electronic check</td>\n",
       "      <td>99.65</td>\n",
       "      <td>820.50</td>\n",
       "      <td>Yes</td>\n",
       "    </tr>\n",
       "    <tr>\n",
       "      <th>8</th>\n",
       "      <td>Female</td>\n",
       "      <td>0</td>\n",
       "      <td>Yes</td>\n",
       "      <td>No</td>\n",
       "      <td>28</td>\n",
       "      <td>Yes</td>\n",
       "      <td>Yes</td>\n",
       "      <td>Fiber optic</td>\n",
       "      <td>No</td>\n",
       "      <td>No</td>\n",
       "      <td>Yes</td>\n",
       "      <td>Yes</td>\n",
       "      <td>Yes</td>\n",
       "      <td>Yes</td>\n",
       "      <td>Month-to-month</td>\n",
       "      <td>Yes</td>\n",
       "      <td>Electronic check</td>\n",
       "      <td>104.80</td>\n",
       "      <td>3046.05</td>\n",
       "      <td>Yes</td>\n",
       "    </tr>\n",
       "    <tr>\n",
       "      <th>13</th>\n",
       "      <td>Male</td>\n",
       "      <td>0</td>\n",
       "      <td>No</td>\n",
       "      <td>No</td>\n",
       "      <td>49</td>\n",
       "      <td>Yes</td>\n",
       "      <td>Yes</td>\n",
       "      <td>Fiber optic</td>\n",
       "      <td>No</td>\n",
       "      <td>Yes</td>\n",
       "      <td>Yes</td>\n",
       "      <td>No</td>\n",
       "      <td>Yes</td>\n",
       "      <td>Yes</td>\n",
       "      <td>Month-to-month</td>\n",
       "      <td>Yes</td>\n",
       "      <td>Bank transfer (automatic)</td>\n",
       "      <td>103.70</td>\n",
       "      <td>5036.30</td>\n",
       "      <td>Yes</td>\n",
       "    </tr>\n",
       "  </tbody>\n",
       "</table>\n",
       "</div>"
      ],
      "text/plain": [
       "    gender SeniorCitizen Partner Dependents  tenure PhoneService  \\\n",
       "2     Male             0      No         No       2          Yes   \n",
       "4   Female             0      No         No       2          Yes   \n",
       "5   Female             0      No         No       8          Yes   \n",
       "8   Female             0     Yes         No      28          Yes   \n",
       "13    Male             0      No         No      49          Yes   \n",
       "\n",
       "   MultipleLines InternetService OnlineSecurity OnlineBackup DeviceProtection  \\\n",
       "2             No             DSL            Yes          Yes               No   \n",
       "4             No     Fiber optic             No           No               No   \n",
       "5            Yes     Fiber optic             No           No              Yes   \n",
       "8            Yes     Fiber optic             No           No              Yes   \n",
       "13           Yes     Fiber optic             No          Yes              Yes   \n",
       "\n",
       "   TechSupport StreamingTV StreamingMovies        Contract PaperlessBilling  \\\n",
       "2           No          No              No  Month-to-month              Yes   \n",
       "4           No          No              No  Month-to-month              Yes   \n",
       "5           No         Yes             Yes  Month-to-month              Yes   \n",
       "8          Yes         Yes             Yes  Month-to-month              Yes   \n",
       "13          No         Yes             Yes  Month-to-month              Yes   \n",
       "\n",
       "                PaymentMethod  MonthlyCharges  TotalCharges Churn  \n",
       "2                Mailed check           53.85        108.15   Yes  \n",
       "4            Electronic check           70.70        151.65   Yes  \n",
       "5            Electronic check           99.65        820.50   Yes  \n",
       "8            Electronic check          104.80       3046.05   Yes  \n",
       "13  Bank transfer (automatic)          103.70       5036.30   Yes  "
      ]
     },
     "execution_count": 22,
     "metadata": {},
     "output_type": "execute_result"
    }
   ],
   "source": [
    "# Subset of the data frame with only churn records \n",
    "data_churn = data[data.Churn == 'Yes']\n",
    "data_churn.head()"
   ]
  },
  {
   "cell_type": "code",
   "execution_count": null,
   "metadata": {},
   "outputs": [],
   "source": []
  },
  {
   "cell_type": "markdown",
   "metadata": {},
   "source": [
    "<b>Senior Citezens</b>"
   ]
  },
  {
   "cell_type": "code",
   "execution_count": 23,
   "metadata": {},
   "outputs": [
    {
     "data": {
      "image/png": "[encoded data removed]",
      "text/plain": [
       "<Figure size 1152x432 with 3 Axes>"
      ]
     },
     "metadata": {},
     "output_type": "display_data"
    }
   ],
   "source": [
    "# Examining senior citizens \n",
    "plt.figure(figsize=(16,6))\n",
    "plt.subplot(1,3,1)\n",
    "sns.countplot(data.SeniorCitizen, hue = data.Churn)\n",
    "\n",
    "plt.subplot(1,3,2)\n",
    "sns.boxplot(x=data.SeniorCitizen, y=data.tenure, hue=data.Churn)\n",
    "\n",
    "plt.subplot(1,3,3)\n",
    "sns.boxplot(x=data.SeniorCitizen, y=data.MonthlyCharges, hue=data.Churn)\n",
    "plt.show()"
   ]
  },
  {
   "cell_type": "code",
   "execution_count": 24,
   "metadata": {},
   "outputs": [],
   "source": [
    "# Calculate the churn rate among senior  \n",
    "senior_count = data['SeniorCitizen'].value_counts().tolist()\n",
    "senior_churn = data_churn[data_churn.SeniorCitizen == 1]\n"
   ]
  },
  {
   "cell_type": "code",
   "execution_count": 25,
   "metadata": {
    "scrolled": true
   },
   "outputs": [
    {
     "name": "stdout",
     "output_type": "stream",
     "text": [
      "[5890, 1142]\n",
      "1142\n",
      "476\n",
      "Amount of senior citizens leaving is:41.68126094570928%\n"
     ]
    }
   ],
   "source": [
    "# Total and churn \n",
    "print(senior_count)\n",
    "print(senior_count[1])\n",
    "print(len(senior_churn))\n",
    "print('Amount of senior citizens leaving is:{}%'.format(len(senior_churn)/senior_count[1]*100))"
   ]
  },
  {
   "cell_type": "markdown",
   "metadata": {},
   "source": [
    "The churn rate for senior citezens is 41.68%  which is much higher than the total churn rate of 26.5%. The ones who leave also have a shorter tenure and overall senior citezens pay higher monthly charges than the rest of the customers. "
   ]
  },
  {
   "cell_type": "markdown",
   "metadata": {},
   "source": [
    "<b>Customers who do not have partners</b>"
   ]
  },
  {
   "cell_type": "code",
   "execution_count": 26,
   "metadata": {},
   "outputs": [
    {
     "data": {
      "image/png": "[encoded data removed]",
      "text/plain": [
       "<Figure size 1152x432 with 3 Axes>"
      ]
     },
     "metadata": {},
     "output_type": "display_data"
    }
   ],
   "source": [
    "# Examining customers who do not have partners \n",
    "plt.figure(figsize=(16,6))\n",
    "plt.subplot(1,3,1)\n",
    "sns.countplot(data.Partner, hue = data.Churn, palette=\"Set3\")\n",
    "\n",
    "plt.subplot(1,3,2)\n",
    "sns.boxplot(x=data.Partner, y=data.tenure, hue=data.Churn, palette=\"Set3\")\n",
    "\n",
    "plt.subplot(1,3,3)\n",
    "sns.boxplot(x=data.Partner, y=data.MonthlyCharges, hue=data.Churn, palette=\"Set3\")\n",
    "plt.show()"
   ]
  },
  {
   "cell_type": "code",
   "execution_count": 27,
   "metadata": {},
   "outputs": [
    {
     "name": "stdout",
     "output_type": "stream",
     "text": [
      "3393\n",
      "1200\n",
      "Churn rate for customers who do not have partners is:32.97609233305853%\n"
     ]
    }
   ],
   "source": [
    "# Calculate the churn rate among customers with no partners  \n",
    "partner_count = data['Partner'].value_counts().tolist()\n",
    "partner_churn = data_churn[data_churn.Partner == 'No']\n",
    "\n",
    "# Total and churn \n",
    "print(partner_count[1])\n",
    "print(len(partner_churn))\n",
    "print('Churn rate for customers who do not have partners is:{}%'.format(len(partner_churn)/partner_count[0]*100))"
   ]
  },
  {
   "cell_type": "markdown",
   "metadata": {},
   "source": [
    "Customers who do not have partners have a churn rate of 32.97% which is higher than the overall rate of 26.5%. The diagrams show that this group has a much shorter tenure and they pay more monthly charge than the overall average of 64.79$. "
   ]
  },
  {
   "cell_type": "markdown",
   "metadata": {},
   "source": [
    "<b>Customers who do not have dependents</b>"
   ]
  },
  {
   "cell_type": "code",
   "execution_count": 28,
   "metadata": {},
   "outputs": [
    {
     "data": {
      "image/png": "[encoded data removed]",
      "text/plain": [
       "<Figure size 1152x432 with 3 Axes>"
      ]
     },
     "metadata": {},
     "output_type": "display_data"
    }
   ],
   "source": [
    "# Examining customers who do not have partners \n",
    "plt.figure(figsize=(16,6))\n",
    "plt.subplot(1,3,1)\n",
    "sns.countplot(data.Dependents, hue = data.Churn)\n",
    "\n",
    "plt.subplot(1,3,2)\n",
    "sns.boxplot(x=data.Dependents, y=data.tenure, hue=data.Churn)\n",
    "\n",
    "plt.subplot(1,3,3)\n",
    "sns.boxplot(x=data.Dependents, y=data.MonthlyCharges, hue=data.Churn)\n",
    "plt.show()"
   ]
  },
  {
   "cell_type": "code",
   "execution_count": 29,
   "metadata": {},
   "outputs": [
    {
     "name": "stdout",
     "output_type": "stream",
     "text": [
      "2099\n",
      "1543\n",
      "Churn rate for customers who do not have dependents is:31.279140482465028%\n"
     ]
    }
   ],
   "source": [
    "# Calculate the churn rate among customers with no dependents  \n",
    "dependent_count = data['Dependents'].value_counts().tolist()\n",
    "dependent_churn = data_churn[data_churn.Dependents == 'No']\n",
    "\n",
    "# Total and churn \n",
    "print(dependent_count[1])\n",
    "print(len(dependent_churn))\n",
    "print('Churn rate for customers who do not have dependents is:{}%'.format(len(dependent_churn)/dependent_count[0]*100))"
   ]
  },
  {
   "cell_type": "markdown",
   "metadata": {},
   "source": [
    "The churn rate among customers who do not have dependents is higher than the overall average. They also pay more than the overall average fee and have shorter tenure."
   ]
  },
  {
   "cell_type": "markdown",
   "metadata": {},
   "source": [
    "<b>Customers who have fiber optics internet service</b>"
   ]
  },
  {
   "cell_type": "code",
   "execution_count": 30,
   "metadata": {},
   "outputs": [
    {
     "data": {
      "image/png": "[encoded data removed]",
      "text/plain": [
       "<Figure size 1152x432 with 3 Axes>"
      ]
     },
     "metadata": {},
     "output_type": "display_data"
    }
   ],
   "source": [
    "# Examining customers who do not have partners \n",
    "plt.figure(figsize=(16,6))\n",
    "plt.subplot(1,3,1)\n",
    "sns.countplot(data.InternetService, hue = data.Churn, palette=\"Set3\")\n",
    "\n",
    "plt.subplot(1,3,2)\n",
    "sns.boxplot(x=data.InternetService, y=data.tenure, hue=data.Churn, palette=\"Set3\")\n",
    "\n",
    "plt.subplot(1,3,3)\n",
    "sns.boxplot(x=data.InternetService, y=data.MonthlyCharges, hue=data.Churn, palette=\"Set3\")\n",
    "plt.show()"
   ]
  },
  {
   "cell_type": "code",
   "execution_count": 31,
   "metadata": {},
   "outputs": [
    {
     "name": "stdout",
     "output_type": "stream",
     "text": [
      "3096\n",
      "1297\n",
      "Churn rate for customers who have Fiber optics internet service is:41.89276485788114%\n"
     ]
    }
   ],
   "source": [
    "# Calculate the churn rate among customers with fiber optics internet service  \n",
    "fiber_count = data['InternetService'].value_counts().tolist()\n",
    "fiber_churn = data_churn[data_churn.InternetService == 'Fiber optic']\n",
    "\n",
    "# Total and churn \n",
    "print(fiber_count[0])\n",
    "print(len(fiber_churn))\n",
    "print('Churn rate for customers who have Fiber optics internet service is:{}%'.format(len(fiber_churn)/fiber_count[0]*100))"
   ]
  },
  {
   "cell_type": "code",
   "execution_count": 32,
   "metadata": {},
   "outputs": [
    {
     "name": "stdout",
     "output_type": "stream",
     "text": [
      "[3096, 2416, 1520]\n"
     ]
    }
   ],
   "source": [
    "print(fiber_count)"
   ]
  },
  {
   "cell_type": "markdown",
   "metadata": {},
   "source": [
    "Customers who have fiber optics internet service have a high churn rate of 42% which is again much larger than the overall rate of 26.5%. This churn group is also characterized by lower than average tenure and higher than average monthly charge. Since the churn rate is very high, it needs further investigation. "
   ]
  },
  {
   "cell_type": "markdown",
   "metadata": {},
   "source": [
    "<b>Customers who use Electronic Check as a payment method</b>"
   ]
  },
  {
   "cell_type": "code",
   "execution_count": 33,
   "metadata": {},
   "outputs": [
    {
     "data": {
      "image/png": "[encoded data removed]",
      "text/plain": [
       "<Figure size 1152x432 with 3 Axes>"
      ]
     },
     "metadata": {},
     "output_type": "display_data"
    }
   ],
   "source": [
    "# Examining customers who use electronic check as a payment method  \n",
    "plt.figure(figsize=(16,6))\n",
    "plt.subplot(1,3,1)\n",
    "sns.countplot(data.PaymentMethod, hue = data.Churn)\n",
    "plt.xticks(rotation=90)\n",
    "\n",
    "plt.subplot(1,3,2)\n",
    "sns.boxplot(x=data.PaymentMethod, y=data.tenure, hue=data.Churn)\n",
    "plt.xticks(rotation=90)\n",
    "\n",
    "plt.subplot(1,3,3)\n",
    "sns.boxplot(x=data.PaymentMethod, y=data.MonthlyCharges, hue=data.Churn)\n",
    "plt.xticks(rotation=90)\n",
    "plt.show()"
   ]
  },
  {
   "cell_type": "code",
   "execution_count": 34,
   "metadata": {},
   "outputs": [
    {
     "name": "stdout",
     "output_type": "stream",
     "text": [
      "Electronic check             2365\n",
      "Mailed check                 1604\n",
      "Bank transfer (automatic)    1542\n",
      "Credit card (automatic)      1521\n",
      "Name: PaymentMethod, dtype: int64\n"
     ]
    }
   ],
   "source": [
    "print(data['PaymentMethod'].value_counts())"
   ]
  },
  {
   "cell_type": "code",
   "execution_count": 35,
   "metadata": {},
   "outputs": [
    {
     "name": "stdout",
     "output_type": "stream",
     "text": [
      "2365\n",
      "1071\n",
      "Churn rate for customers who use Electronic check as payment method is:45.28541226215645%\n"
     ]
    }
   ],
   "source": [
    "# Calculate the churn rate among customers with no dependents  \n",
    "e_check_count = data['PaymentMethod'].value_counts().tolist()\n",
    "e_check_churn = data_churn[data_churn.PaymentMethod == 'Electronic check']\n",
    "\n",
    "# Total and churn \n",
    "print(e_check_count[0])\n",
    "print(len(e_check_churn))\n",
    "print('Churn rate for customers who use Electronic check as payment method is:{}%'.format(len(e_check_churn)/e_check_count[0]*100))"
   ]
  },
  {
   "cell_type": "markdown",
   "metadata": {},
   "source": [
    "Customers who use Electronic check as a payment method have a 45% churn rate which is much higher than the 26.5% total average. The graph shows considerable differences in the churn proportion with the other three payment methods. This group also has lower than average tenure and higher monthly charge than the whole average.   "
   ]
  },
  {
   "cell_type": "markdown",
   "metadata": {},
   "source": [
    "## Modeling\n",
    "\n",
    "The following supervised learning models will be used to predict customer churn\n",
    "<ul>\n",
    "    <li>Naive Bayes Bernoulli Classifier</li>\n",
    "    <li>K-nearest neighbors (KNN)</li>\n",
    "    <li>logistics Regression</li>\n",
    "    <li>Ridge Classifier</li>\n",
    "    <li>Lasso (Logistics regression with l1 regularization parameter)</li>\n",
    "    <li>Decision Tree Classifier</li>\n",
    "    <li>Random Forest</li>\n",
    "    <li>Support Vector Classifier (SVC)</li>\n",
    "    <li>Gradient Boost Classification</li>\n",
    "</ul>\n",
    "\n",
    "We will use a holdout group by spliting the data. We will use Principal Component Analysis (PCA) and SelectKbest methods to reduce the dimentionality and GridSearchCV for tuning parameters. \n",
    "\n",
    "<b>Evaluation</b>\n",
    "\n",
    "We will use accuracy score, confusion matrix, classification report, and AUC (Area Under the Curve) to evaluate the models. We'll compare scores for both training and test. Ideally, we want the test set score to be just a little lower than the training set score. A bigger difference shows overfitting. \n",
    "\n",
    "AUC curve is generated by ploting true positive rates against false positive rates. A model with AUC value closer to 1 is a better model.\n"
   ]
  },
  {
   "cell_type": "markdown",
   "metadata": {},
   "source": [
    "We have seen earlier that the gender variable is not a good indicator since the churn rate is the same for both female and male values. So we can go ahead and drop it. "
   ]
  },
  {
   "cell_type": "code",
   "execution_count": 36,
   "metadata": {},
   "outputs": [
    {
     "data": {
      "text/html": [
       "<div>\n",
       "<style scoped>\n",
       "    .dataframe tbody tr th:only-of-type {\n",
       "        vertical-align: middle;\n",
       "    }\n",
       "\n",
       "    .dataframe tbody tr th {\n",
       "        vertical-align: top;\n",
       "    }\n",
       "\n",
       "    .dataframe thead th {\n",
       "        text-align: right;\n",
       "    }\n",
       "</style>\n",
       "<table border=\"1\" class=\"dataframe\">\n",
       "  <thead>\n",
       "    <tr style=\"text-align: right;\">\n",
       "      <th></th>\n",
       "      <th>SeniorCitizen</th>\n",
       "      <th>Partner</th>\n",
       "      <th>Dependents</th>\n",
       "      <th>tenure</th>\n",
       "      <th>PhoneService</th>\n",
       "      <th>MultipleLines</th>\n",
       "      <th>InternetService</th>\n",
       "      <th>OnlineSecurity</th>\n",
       "      <th>OnlineBackup</th>\n",
       "      <th>DeviceProtection</th>\n",
       "      <th>TechSupport</th>\n",
       "      <th>StreamingTV</th>\n",
       "      <th>StreamingMovies</th>\n",
       "      <th>Contract</th>\n",
       "      <th>PaperlessBilling</th>\n",
       "      <th>PaymentMethod</th>\n",
       "      <th>MonthlyCharges</th>\n",
       "      <th>TotalCharges</th>\n",
       "      <th>Churn</th>\n",
       "    </tr>\n",
       "  </thead>\n",
       "  <tbody>\n",
       "    <tr>\n",
       "      <th>0</th>\n",
       "      <td>0</td>\n",
       "      <td>Yes</td>\n",
       "      <td>No</td>\n",
       "      <td>1</td>\n",
       "      <td>No</td>\n",
       "      <td>No phone service</td>\n",
       "      <td>DSL</td>\n",
       "      <td>No</td>\n",
       "      <td>Yes</td>\n",
       "      <td>No</td>\n",
       "      <td>No</td>\n",
       "      <td>No</td>\n",
       "      <td>No</td>\n",
       "      <td>Month-to-month</td>\n",
       "      <td>Yes</td>\n",
       "      <td>Electronic check</td>\n",
       "      <td>29.85</td>\n",
       "      <td>29.85</td>\n",
       "      <td>No</td>\n",
       "    </tr>\n",
       "    <tr>\n",
       "      <th>1</th>\n",
       "      <td>0</td>\n",
       "      <td>No</td>\n",
       "      <td>No</td>\n",
       "      <td>34</td>\n",
       "      <td>Yes</td>\n",
       "      <td>No</td>\n",
       "      <td>DSL</td>\n",
       "      <td>Yes</td>\n",
       "      <td>No</td>\n",
       "      <td>Yes</td>\n",
       "      <td>No</td>\n",
       "      <td>No</td>\n",
       "      <td>No</td>\n",
       "      <td>One year</td>\n",
       "      <td>No</td>\n",
       "      <td>Mailed check</td>\n",
       "      <td>56.95</td>\n",
       "      <td>1889.50</td>\n",
       "      <td>No</td>\n",
       "    </tr>\n",
       "    <tr>\n",
       "      <th>2</th>\n",
       "      <td>0</td>\n",
       "      <td>No</td>\n",
       "      <td>No</td>\n",
       "      <td>2</td>\n",
       "      <td>Yes</td>\n",
       "      <td>No</td>\n",
       "      <td>DSL</td>\n",
       "      <td>Yes</td>\n",
       "      <td>Yes</td>\n",
       "      <td>No</td>\n",
       "      <td>No</td>\n",
       "      <td>No</td>\n",
       "      <td>No</td>\n",
       "      <td>Month-to-month</td>\n",
       "      <td>Yes</td>\n",
       "      <td>Mailed check</td>\n",
       "      <td>53.85</td>\n",
       "      <td>108.15</td>\n",
       "      <td>Yes</td>\n",
       "    </tr>\n",
       "    <tr>\n",
       "      <th>3</th>\n",
       "      <td>0</td>\n",
       "      <td>No</td>\n",
       "      <td>No</td>\n",
       "      <td>45</td>\n",
       "      <td>No</td>\n",
       "      <td>No phone service</td>\n",
       "      <td>DSL</td>\n",
       "      <td>Yes</td>\n",
       "      <td>No</td>\n",
       "      <td>Yes</td>\n",
       "      <td>Yes</td>\n",
       "      <td>No</td>\n",
       "      <td>No</td>\n",
       "      <td>One year</td>\n",
       "      <td>No</td>\n",
       "      <td>Bank transfer (automatic)</td>\n",
       "      <td>42.30</td>\n",
       "      <td>1840.75</td>\n",
       "      <td>No</td>\n",
       "    </tr>\n",
       "    <tr>\n",
       "      <th>4</th>\n",
       "      <td>0</td>\n",
       "      <td>No</td>\n",
       "      <td>No</td>\n",
       "      <td>2</td>\n",
       "      <td>Yes</td>\n",
       "      <td>No</td>\n",
       "      <td>Fiber optic</td>\n",
       "      <td>No</td>\n",
       "      <td>No</td>\n",
       "      <td>No</td>\n",
       "      <td>No</td>\n",
       "      <td>No</td>\n",
       "      <td>No</td>\n",
       "      <td>Month-to-month</td>\n",
       "      <td>Yes</td>\n",
       "      <td>Electronic check</td>\n",
       "      <td>70.70</td>\n",
       "      <td>151.65</td>\n",
       "      <td>Yes</td>\n",
       "    </tr>\n",
       "  </tbody>\n",
       "</table>\n",
       "</div>"
      ],
      "text/plain": [
       "  SeniorCitizen Partner Dependents  tenure PhoneService     MultipleLines  \\\n",
       "0             0     Yes         No       1           No  No phone service   \n",
       "1             0      No         No      34          Yes                No   \n",
       "2             0      No         No       2          Yes                No   \n",
       "3             0      No         No      45           No  No phone service   \n",
       "4             0      No         No       2          Yes                No   \n",
       "\n",
       "  InternetService OnlineSecurity OnlineBackup DeviceProtection TechSupport  \\\n",
       "0             DSL             No          Yes               No          No   \n",
       "1             DSL            Yes           No              Yes          No   \n",
       "2             DSL            Yes          Yes               No          No   \n",
       "3             DSL            Yes           No              Yes         Yes   \n",
       "4     Fiber optic             No           No               No          No   \n",
       "\n",
       "  StreamingTV StreamingMovies        Contract PaperlessBilling  \\\n",
       "0          No              No  Month-to-month              Yes   \n",
       "1          No              No        One year               No   \n",
       "2          No              No  Month-to-month              Yes   \n",
       "3          No              No        One year               No   \n",
       "4          No              No  Month-to-month              Yes   \n",
       "\n",
       "               PaymentMethod  MonthlyCharges  TotalCharges Churn  \n",
       "0           Electronic check           29.85         29.85    No  \n",
       "1               Mailed check           56.95       1889.50    No  \n",
       "2               Mailed check           53.85        108.15   Yes  \n",
       "3  Bank transfer (automatic)           42.30       1840.75    No  \n",
       "4           Electronic check           70.70        151.65   Yes  "
      ]
     },
     "execution_count": 36,
     "metadata": {},
     "output_type": "execute_result"
    }
   ],
   "source": [
    "# Drop gender and confirm change\n",
    "data = data.drop('gender',1)\n",
    "data.head()"
   ]
  },
  {
   "cell_type": "markdown",
   "metadata": {},
   "source": [
    "### Handling categorical variables \n",
    "\n",
    "The data set is mostly comprised of categorical variables. Machine learning algorithms require all variables to be numeric. We will use pands's get_dummies method to create dummy variables with binary representation of each value in the categorical variables. Lebel encoding is another option to handle categorical data but, since the values do not have ordinal relationship, the models might result in a poor result."
   ]
  },
  {
   "cell_type": "code",
   "execution_count": 37,
   "metadata": {
    "scrolled": false
   },
   "outputs": [
    {
     "name": "stdout",
     "output_type": "stream",
     "text": [
      "SeniorCitizen\n",
      "[0 1]\n",
      "Partner\n",
      "['Yes' 'No']\n",
      "Dependents\n",
      "['No' 'Yes']\n",
      "PhoneService\n",
      "['No' 'Yes']\n",
      "MultipleLines\n",
      "['No phone service' 'No' 'Yes']\n",
      "InternetService\n",
      "['DSL' 'Fiber optic' 'No']\n",
      "OnlineSecurity\n",
      "['No' 'Yes' 'No internet service']\n",
      "OnlineBackup\n",
      "['Yes' 'No' 'No internet service']\n",
      "DeviceProtection\n",
      "['No' 'Yes' 'No internet service']\n",
      "TechSupport\n",
      "['No' 'Yes' 'No internet service']\n",
      "StreamingTV\n",
      "['No' 'Yes' 'No internet service']\n",
      "StreamingMovies\n",
      "['No' 'Yes' 'No internet service']\n",
      "Contract\n",
      "['Month-to-month' 'One year' 'Two year']\n",
      "PaperlessBilling\n",
      "['Yes' 'No']\n",
      "PaymentMethod\n",
      "['Electronic check' 'Mailed check' 'Bank transfer (automatic)'\n",
      " 'Credit card (automatic)']\n",
      "Churn\n",
      "['No' 'Yes']\n"
     ]
    }
   ],
   "source": [
    "# Print values in each category\n",
    "categorical = data.select_dtypes(include=['object'])\n",
    "for i in categorical:\n",
    "    column = categorical[i]\n",
    "    print(i)\n",
    "    print(column.unique())"
   ]
  },
  {
   "cell_type": "markdown",
   "metadata": {},
   "source": [
    "The SeniorCitezen variable is represented with binary digits. Let's replace that with 'Yes' and 'No' strings so that when we create dummy variables, it will be represented with two columns properly. We will do the opposite for 'Churn' variable since it's our target variable and we want a binary representation in the same column. "
   ]
  },
  {
   "cell_type": "code",
   "execution_count": 38,
   "metadata": {},
   "outputs": [],
   "source": [
    "# encode 0 for No and 1 for Yes\n",
    "data['SeniorCitizen'] = data['SeniorCitizen'].replace(0, 'No')\n",
    "data['SeniorCitizen'] = data['SeniorCitizen'].replace(1, 'Yes')\n",
    "data['Churn'] = data['Churn'].replace(['No'], 0)\n",
    "data['Churn'] = data['Churn'].replace(['Yes'], 1)"
   ]
  },
  {
   "cell_type": "code",
   "execution_count": 39,
   "metadata": {
    "scrolled": true
   },
   "outputs": [
    {
     "data": {
      "text/html": [
       "<div>\n",
       "<style scoped>\n",
       "    .dataframe tbody tr th:only-of-type {\n",
       "        vertical-align: middle;\n",
       "    }\n",
       "\n",
       "    .dataframe tbody tr th {\n",
       "        vertical-align: top;\n",
       "    }\n",
       "\n",
       "    .dataframe thead th {\n",
       "        text-align: right;\n",
       "    }\n",
       "</style>\n",
       "<table border=\"1\" class=\"dataframe\">\n",
       "  <thead>\n",
       "    <tr style=\"text-align: right;\">\n",
       "      <th></th>\n",
       "      <th>SeniorCitizen</th>\n",
       "      <th>Partner</th>\n",
       "      <th>Dependents</th>\n",
       "      <th>tenure</th>\n",
       "      <th>PhoneService</th>\n",
       "      <th>MultipleLines</th>\n",
       "      <th>InternetService</th>\n",
       "      <th>OnlineSecurity</th>\n",
       "      <th>OnlineBackup</th>\n",
       "      <th>DeviceProtection</th>\n",
       "      <th>TechSupport</th>\n",
       "      <th>StreamingTV</th>\n",
       "      <th>StreamingMovies</th>\n",
       "      <th>Contract</th>\n",
       "      <th>PaperlessBilling</th>\n",
       "      <th>PaymentMethod</th>\n",
       "      <th>MonthlyCharges</th>\n",
       "      <th>TotalCharges</th>\n",
       "      <th>Churn</th>\n",
       "    </tr>\n",
       "  </thead>\n",
       "  <tbody>\n",
       "    <tr>\n",
       "      <th>7038</th>\n",
       "      <td>No</td>\n",
       "      <td>Yes</td>\n",
       "      <td>Yes</td>\n",
       "      <td>24</td>\n",
       "      <td>Yes</td>\n",
       "      <td>Yes</td>\n",
       "      <td>DSL</td>\n",
       "      <td>Yes</td>\n",
       "      <td>No</td>\n",
       "      <td>Yes</td>\n",
       "      <td>Yes</td>\n",
       "      <td>Yes</td>\n",
       "      <td>Yes</td>\n",
       "      <td>One year</td>\n",
       "      <td>Yes</td>\n",
       "      <td>Mailed check</td>\n",
       "      <td>84.80</td>\n",
       "      <td>1990.50</td>\n",
       "      <td>0</td>\n",
       "    </tr>\n",
       "    <tr>\n",
       "      <th>7039</th>\n",
       "      <td>No</td>\n",
       "      <td>Yes</td>\n",
       "      <td>Yes</td>\n",
       "      <td>72</td>\n",
       "      <td>Yes</td>\n",
       "      <td>Yes</td>\n",
       "      <td>Fiber optic</td>\n",
       "      <td>No</td>\n",
       "      <td>Yes</td>\n",
       "      <td>Yes</td>\n",
       "      <td>No</td>\n",
       "      <td>Yes</td>\n",
       "      <td>Yes</td>\n",
       "      <td>One year</td>\n",
       "      <td>Yes</td>\n",
       "      <td>Credit card (automatic)</td>\n",
       "      <td>103.20</td>\n",
       "      <td>7362.90</td>\n",
       "      <td>0</td>\n",
       "    </tr>\n",
       "    <tr>\n",
       "      <th>7040</th>\n",
       "      <td>No</td>\n",
       "      <td>Yes</td>\n",
       "      <td>Yes</td>\n",
       "      <td>11</td>\n",
       "      <td>No</td>\n",
       "      <td>No phone service</td>\n",
       "      <td>DSL</td>\n",
       "      <td>Yes</td>\n",
       "      <td>No</td>\n",
       "      <td>No</td>\n",
       "      <td>No</td>\n",
       "      <td>No</td>\n",
       "      <td>No</td>\n",
       "      <td>Month-to-month</td>\n",
       "      <td>Yes</td>\n",
       "      <td>Electronic check</td>\n",
       "      <td>29.60</td>\n",
       "      <td>346.45</td>\n",
       "      <td>0</td>\n",
       "    </tr>\n",
       "    <tr>\n",
       "      <th>7041</th>\n",
       "      <td>Yes</td>\n",
       "      <td>Yes</td>\n",
       "      <td>No</td>\n",
       "      <td>4</td>\n",
       "      <td>Yes</td>\n",
       "      <td>Yes</td>\n",
       "      <td>Fiber optic</td>\n",
       "      <td>No</td>\n",
       "      <td>No</td>\n",
       "      <td>No</td>\n",
       "      <td>No</td>\n",
       "      <td>No</td>\n",
       "      <td>No</td>\n",
       "      <td>Month-to-month</td>\n",
       "      <td>Yes</td>\n",
       "      <td>Mailed check</td>\n",
       "      <td>74.40</td>\n",
       "      <td>306.60</td>\n",
       "      <td>1</td>\n",
       "    </tr>\n",
       "    <tr>\n",
       "      <th>7042</th>\n",
       "      <td>No</td>\n",
       "      <td>No</td>\n",
       "      <td>No</td>\n",
       "      <td>66</td>\n",
       "      <td>Yes</td>\n",
       "      <td>No</td>\n",
       "      <td>Fiber optic</td>\n",
       "      <td>Yes</td>\n",
       "      <td>No</td>\n",
       "      <td>Yes</td>\n",
       "      <td>Yes</td>\n",
       "      <td>Yes</td>\n",
       "      <td>Yes</td>\n",
       "      <td>Two year</td>\n",
       "      <td>Yes</td>\n",
       "      <td>Bank transfer (automatic)</td>\n",
       "      <td>105.65</td>\n",
       "      <td>6844.50</td>\n",
       "      <td>0</td>\n",
       "    </tr>\n",
       "  </tbody>\n",
       "</table>\n",
       "</div>"
      ],
      "text/plain": [
       "     SeniorCitizen Partner Dependents  tenure PhoneService     MultipleLines  \\\n",
       "7038            No     Yes        Yes      24          Yes               Yes   \n",
       "7039            No     Yes        Yes      72          Yes               Yes   \n",
       "7040            No     Yes        Yes      11           No  No phone service   \n",
       "7041           Yes     Yes         No       4          Yes               Yes   \n",
       "7042            No      No         No      66          Yes                No   \n",
       "\n",
       "     InternetService OnlineSecurity OnlineBackup DeviceProtection TechSupport  \\\n",
       "7038             DSL            Yes           No              Yes         Yes   \n",
       "7039     Fiber optic             No          Yes              Yes          No   \n",
       "7040             DSL            Yes           No               No          No   \n",
       "7041     Fiber optic             No           No               No          No   \n",
       "7042     Fiber optic            Yes           No              Yes         Yes   \n",
       "\n",
       "     StreamingTV StreamingMovies        Contract PaperlessBilling  \\\n",
       "7038         Yes             Yes        One year              Yes   \n",
       "7039         Yes             Yes        One year              Yes   \n",
       "7040          No              No  Month-to-month              Yes   \n",
       "7041          No              No  Month-to-month              Yes   \n",
       "7042         Yes             Yes        Two year              Yes   \n",
       "\n",
       "                  PaymentMethod  MonthlyCharges  TotalCharges  Churn  \n",
       "7038               Mailed check           84.80       1990.50      0  \n",
       "7039    Credit card (automatic)          103.20       7362.90      0  \n",
       "7040           Electronic check           29.60        346.45      0  \n",
       "7041               Mailed check           74.40        306.60      1  \n",
       "7042  Bank transfer (automatic)          105.65       6844.50      0  "
      ]
     },
     "execution_count": 39,
     "metadata": {},
     "output_type": "execute_result"
    }
   ],
   "source": [
    "# Confirm Changes \n",
    "data.tail()"
   ]
  },
  {
   "cell_type": "markdown",
   "metadata": {},
   "source": [
    "## Fixing Class Imbalance \n",
    "\n",
    "As we have seen earlier, there is a class imbalance in the outcome variable which would make the accuracy scores unreliable if left unfixed.  "
   ]
  },
  {
   "cell_type": "code",
   "execution_count": 67,
   "metadata": {},
   "outputs": [
    {
     "data": {
      "image/png": "[encoded data removed]",
      "text/plain": [
       "<Figure size 432x288 with 1 Axes>"
      ]
     },
     "metadata": {},
     "output_type": "display_data"
    },
    {
     "name": "stdout",
     "output_type": "stream",
     "text": [
      "0    5163\n",
      "1    1869\n",
      "Name: Churn, dtype: int64\n"
     ]
    }
   ],
   "source": [
    "sns.countplot(x='Churn', data=data, palette='hls')\n",
    "plt.title('Churn vs Retained customers')\n",
    "plt.show()\n",
    "print(data['Churn'].value_counts())"
   ]
  },
  {
   "cell_type": "markdown",
   "metadata": {},
   "source": [
    "We will resample the data by domwnsampling the majority group. "
   ]
  },
  {
   "cell_type": "code",
   "execution_count": 68,
   "metadata": {},
   "outputs": [
    {
     "name": "stdout",
     "output_type": "stream",
     "text": [
      "1    1869\n",
      "0    1869\n",
      "Name: Churn, dtype: int64\n",
      "We now have a sample with balanced class\n"
     ]
    },
    {
     "data": {
      "image/png": "[encoded data removed]",
      "text/plain": [
       "<Figure size 432x288 with 1 Axes>"
      ]
     },
     "metadata": {},
     "output_type": "display_data"
    }
   ],
   "source": [
    "#Import module and resampling \n",
    "\n",
    "from sklearn.utils import resample\n",
    "\n",
    "# Separate majority and minority classes\n",
    "data_majority = data[data.Churn==0]\n",
    "data_minority = data[data.Churn==1]\n",
    " \n",
    "# Downsample majority overall class\n",
    "data_majority_downsampled = resample(data_majority, \n",
    "                                 replace=False,    # sample without replacement\n",
    "                                 n_samples=1869,     # len(reviews_raw_minority)\n",
    "                                 random_state=123) # reproducible results\n",
    " \n",
    "# Combine minority class with downsampled majority overall class\n",
    "data_resampled = pd.concat([data_majority_downsampled, data_minority])\n",
    " \n",
    "# Display new class counts\n",
    "print(data_resampled.Churn.value_counts())\n",
    "print('We now have a sample with balanced class')\n",
    "\n",
    "sns.countplot(x='Churn', data=data_resampled, palette='hls')\n",
    "plt.title('Balanced class')\n",
    "plt.show()"
   ]
  },
  {
   "cell_type": "code",
   "execution_count": null,
   "metadata": {},
   "outputs": [],
   "source": []
  },
  {
   "cell_type": "markdown",
   "metadata": {},
   "source": [
    "### Dependent and Independent Variables"
   ]
  },
  {
   "cell_type": "code",
   "execution_count": 69,
   "metadata": {},
   "outputs": [],
   "source": [
    "# define target and predictor variables and get dummies\n",
    "X = data_resampled.drop('Churn', 1)\n",
    "Y = data_resampled['Churn']\n",
    "X = pd.get_dummies(X)\n"
   ]
  },
  {
   "cell_type": "code",
   "execution_count": 70,
   "metadata": {},
   "outputs": [
    {
     "data": {
      "text/plain": [
       "(3738, 44)"
      ]
     },
     "execution_count": 70,
     "metadata": {},
     "output_type": "execute_result"
    }
   ],
   "source": [
    "# a lot of columns\n",
    "X.shape"
   ]
  },
  {
   "cell_type": "code",
   "execution_count": 71,
   "metadata": {
    "scrolled": true
   },
   "outputs": [
    {
     "data": {
      "text/html": [
       "<div>\n",
       "<style scoped>\n",
       "    .dataframe tbody tr th:only-of-type {\n",
       "        vertical-align: middle;\n",
       "    }\n",
       "\n",
       "    .dataframe tbody tr th {\n",
       "        vertical-align: top;\n",
       "    }\n",
       "\n",
       "    .dataframe thead th {\n",
       "        text-align: right;\n",
       "    }\n",
       "</style>\n",
       "<table border=\"1\" class=\"dataframe\">\n",
       "  <thead>\n",
       "    <tr style=\"text-align: right;\">\n",
       "      <th></th>\n",
       "      <th>tenure</th>\n",
       "      <th>MonthlyCharges</th>\n",
       "      <th>TotalCharges</th>\n",
       "      <th>SeniorCitizen_No</th>\n",
       "      <th>SeniorCitizen_Yes</th>\n",
       "      <th>Partner_No</th>\n",
       "      <th>Partner_Yes</th>\n",
       "      <th>Dependents_No</th>\n",
       "      <th>Dependents_Yes</th>\n",
       "      <th>PhoneService_No</th>\n",
       "      <th>PhoneService_Yes</th>\n",
       "      <th>MultipleLines_No</th>\n",
       "      <th>MultipleLines_No phone service</th>\n",
       "      <th>MultipleLines_Yes</th>\n",
       "      <th>InternetService_DSL</th>\n",
       "      <th>InternetService_Fiber optic</th>\n",
       "      <th>InternetService_No</th>\n",
       "      <th>OnlineSecurity_No</th>\n",
       "      <th>OnlineSecurity_No internet service</th>\n",
       "      <th>OnlineSecurity_Yes</th>\n",
       "      <th>OnlineBackup_No</th>\n",
       "      <th>OnlineBackup_No internet service</th>\n",
       "      <th>OnlineBackup_Yes</th>\n",
       "      <th>DeviceProtection_No</th>\n",
       "      <th>DeviceProtection_No internet service</th>\n",
       "      <th>DeviceProtection_Yes</th>\n",
       "      <th>TechSupport_No</th>\n",
       "      <th>TechSupport_No internet service</th>\n",
       "      <th>TechSupport_Yes</th>\n",
       "      <th>StreamingTV_No</th>\n",
       "      <th>StreamingTV_No internet service</th>\n",
       "      <th>StreamingTV_Yes</th>\n",
       "      <th>StreamingMovies_No</th>\n",
       "      <th>StreamingMovies_No internet service</th>\n",
       "      <th>StreamingMovies_Yes</th>\n",
       "      <th>Contract_Month-to-month</th>\n",
       "      <th>Contract_One year</th>\n",
       "      <th>Contract_Two year</th>\n",
       "      <th>PaperlessBilling_No</th>\n",
       "      <th>PaperlessBilling_Yes</th>\n",
       "      <th>PaymentMethod_Bank transfer (automatic)</th>\n",
       "      <th>PaymentMethod_Credit card (automatic)</th>\n",
       "      <th>PaymentMethod_Electronic check</th>\n",
       "      <th>PaymentMethod_Mailed check</th>\n",
       "    </tr>\n",
       "  </thead>\n",
       "  <tbody>\n",
       "    <tr>\n",
       "      <th>5392</th>\n",
       "      <td>63</td>\n",
       "      <td>39.35</td>\n",
       "      <td>2395.05</td>\n",
       "      <td>1</td>\n",
       "      <td>0</td>\n",
       "      <td>0</td>\n",
       "      <td>1</td>\n",
       "      <td>0</td>\n",
       "      <td>1</td>\n",
       "      <td>1</td>\n",
       "      <td>0</td>\n",
       "      <td>0</td>\n",
       "      <td>1</td>\n",
       "      <td>0</td>\n",
       "      <td>1</td>\n",
       "      <td>0</td>\n",
       "      <td>0</td>\n",
       "      <td>1</td>\n",
       "      <td>0</td>\n",
       "      <td>0</td>\n",
       "      <td>0</td>\n",
       "      <td>0</td>\n",
       "      <td>1</td>\n",
       "      <td>0</td>\n",
       "      <td>0</td>\n",
       "      <td>1</td>\n",
       "      <td>0</td>\n",
       "      <td>0</td>\n",
       "      <td>1</td>\n",
       "      <td>1</td>\n",
       "      <td>0</td>\n",
       "      <td>0</td>\n",
       "      <td>1</td>\n",
       "      <td>0</td>\n",
       "      <td>0</td>\n",
       "      <td>0</td>\n",
       "      <td>0</td>\n",
       "      <td>1</td>\n",
       "      <td>1</td>\n",
       "      <td>0</td>\n",
       "      <td>1</td>\n",
       "      <td>0</td>\n",
       "      <td>0</td>\n",
       "      <td>0</td>\n",
       "    </tr>\n",
       "    <tr>\n",
       "      <th>4822</th>\n",
       "      <td>72</td>\n",
       "      <td>104.90</td>\n",
       "      <td>7559.55</td>\n",
       "      <td>1</td>\n",
       "      <td>0</td>\n",
       "      <td>0</td>\n",
       "      <td>1</td>\n",
       "      <td>0</td>\n",
       "      <td>1</td>\n",
       "      <td>0</td>\n",
       "      <td>1</td>\n",
       "      <td>1</td>\n",
       "      <td>0</td>\n",
       "      <td>0</td>\n",
       "      <td>0</td>\n",
       "      <td>1</td>\n",
       "      <td>0</td>\n",
       "      <td>0</td>\n",
       "      <td>0</td>\n",
       "      <td>1</td>\n",
       "      <td>1</td>\n",
       "      <td>0</td>\n",
       "      <td>0</td>\n",
       "      <td>0</td>\n",
       "      <td>0</td>\n",
       "      <td>1</td>\n",
       "      <td>0</td>\n",
       "      <td>0</td>\n",
       "      <td>1</td>\n",
       "      <td>0</td>\n",
       "      <td>0</td>\n",
       "      <td>1</td>\n",
       "      <td>0</td>\n",
       "      <td>0</td>\n",
       "      <td>1</td>\n",
       "      <td>0</td>\n",
       "      <td>0</td>\n",
       "      <td>1</td>\n",
       "      <td>0</td>\n",
       "      <td>1</td>\n",
       "      <td>0</td>\n",
       "      <td>1</td>\n",
       "      <td>0</td>\n",
       "      <td>0</td>\n",
       "    </tr>\n",
       "    <tr>\n",
       "      <th>2555</th>\n",
       "      <td>8</td>\n",
       "      <td>60.00</td>\n",
       "      <td>487.75</td>\n",
       "      <td>1</td>\n",
       "      <td>0</td>\n",
       "      <td>1</td>\n",
       "      <td>0</td>\n",
       "      <td>1</td>\n",
       "      <td>0</td>\n",
       "      <td>0</td>\n",
       "      <td>1</td>\n",
       "      <td>1</td>\n",
       "      <td>0</td>\n",
       "      <td>0</td>\n",
       "      <td>1</td>\n",
       "      <td>0</td>\n",
       "      <td>0</td>\n",
       "      <td>0</td>\n",
       "      <td>0</td>\n",
       "      <td>1</td>\n",
       "      <td>1</td>\n",
       "      <td>0</td>\n",
       "      <td>0</td>\n",
       "      <td>1</td>\n",
       "      <td>0</td>\n",
       "      <td>0</td>\n",
       "      <td>1</td>\n",
       "      <td>0</td>\n",
       "      <td>0</td>\n",
       "      <td>0</td>\n",
       "      <td>0</td>\n",
       "      <td>1</td>\n",
       "      <td>1</td>\n",
       "      <td>0</td>\n",
       "      <td>0</td>\n",
       "      <td>1</td>\n",
       "      <td>0</td>\n",
       "      <td>0</td>\n",
       "      <td>0</td>\n",
       "      <td>1</td>\n",
       "      <td>0</td>\n",
       "      <td>0</td>\n",
       "      <td>1</td>\n",
       "      <td>0</td>\n",
       "    </tr>\n",
       "    <tr>\n",
       "      <th>6013</th>\n",
       "      <td>50</td>\n",
       "      <td>100.65</td>\n",
       "      <td>5189.75</td>\n",
       "      <td>0</td>\n",
       "      <td>1</td>\n",
       "      <td>0</td>\n",
       "      <td>1</td>\n",
       "      <td>1</td>\n",
       "      <td>0</td>\n",
       "      <td>0</td>\n",
       "      <td>1</td>\n",
       "      <td>0</td>\n",
       "      <td>0</td>\n",
       "      <td>1</td>\n",
       "      <td>0</td>\n",
       "      <td>1</td>\n",
       "      <td>0</td>\n",
       "      <td>1</td>\n",
       "      <td>0</td>\n",
       "      <td>0</td>\n",
       "      <td>1</td>\n",
       "      <td>0</td>\n",
       "      <td>0</td>\n",
       "      <td>1</td>\n",
       "      <td>0</td>\n",
       "      <td>0</td>\n",
       "      <td>0</td>\n",
       "      <td>0</td>\n",
       "      <td>1</td>\n",
       "      <td>0</td>\n",
       "      <td>0</td>\n",
       "      <td>1</td>\n",
       "      <td>0</td>\n",
       "      <td>0</td>\n",
       "      <td>1</td>\n",
       "      <td>0</td>\n",
       "      <td>1</td>\n",
       "      <td>0</td>\n",
       "      <td>0</td>\n",
       "      <td>1</td>\n",
       "      <td>0</td>\n",
       "      <td>0</td>\n",
       "      <td>1</td>\n",
       "      <td>0</td>\n",
       "    </tr>\n",
       "    <tr>\n",
       "      <th>6263</th>\n",
       "      <td>25</td>\n",
       "      <td>54.20</td>\n",
       "      <td>1423.15</td>\n",
       "      <td>1</td>\n",
       "      <td>0</td>\n",
       "      <td>1</td>\n",
       "      <td>0</td>\n",
       "      <td>1</td>\n",
       "      <td>0</td>\n",
       "      <td>1</td>\n",
       "      <td>0</td>\n",
       "      <td>0</td>\n",
       "      <td>1</td>\n",
       "      <td>0</td>\n",
       "      <td>1</td>\n",
       "      <td>0</td>\n",
       "      <td>0</td>\n",
       "      <td>1</td>\n",
       "      <td>0</td>\n",
       "      <td>0</td>\n",
       "      <td>1</td>\n",
       "      <td>0</td>\n",
       "      <td>0</td>\n",
       "      <td>0</td>\n",
       "      <td>0</td>\n",
       "      <td>1</td>\n",
       "      <td>0</td>\n",
       "      <td>0</td>\n",
       "      <td>1</td>\n",
       "      <td>0</td>\n",
       "      <td>0</td>\n",
       "      <td>1</td>\n",
       "      <td>0</td>\n",
       "      <td>0</td>\n",
       "      <td>1</td>\n",
       "      <td>0</td>\n",
       "      <td>1</td>\n",
       "      <td>0</td>\n",
       "      <td>1</td>\n",
       "      <td>0</td>\n",
       "      <td>0</td>\n",
       "      <td>0</td>\n",
       "      <td>1</td>\n",
       "      <td>0</td>\n",
       "    </tr>\n",
       "  </tbody>\n",
       "</table>\n",
       "</div>"
      ],
      "text/plain": [
       "      tenure  MonthlyCharges  TotalCharges  SeniorCitizen_No  \\\n",
       "5392      63           39.35       2395.05                 1   \n",
       "4822      72          104.90       7559.55                 1   \n",
       "2555       8           60.00        487.75                 1   \n",
       "6013      50          100.65       5189.75                 0   \n",
       "6263      25           54.20       1423.15                 1   \n",
       "\n",
       "      SeniorCitizen_Yes  Partner_No  Partner_Yes  Dependents_No  \\\n",
       "5392                  0           0            1              0   \n",
       "4822                  0           0            1              0   \n",
       "2555                  0           1            0              1   \n",
       "6013                  1           0            1              1   \n",
       "6263                  0           1            0              1   \n",
       "\n",
       "      Dependents_Yes  PhoneService_No  PhoneService_Yes  MultipleLines_No  \\\n",
       "5392               1                1                 0                 0   \n",
       "4822               1                0                 1                 1   \n",
       "2555               0                0                 1                 1   \n",
       "6013               0                0                 1                 0   \n",
       "6263               0                1                 0                 0   \n",
       "\n",
       "      MultipleLines_No phone service  MultipleLines_Yes  InternetService_DSL  \\\n",
       "5392                               1                  0                    1   \n",
       "4822                               0                  0                    0   \n",
       "2555                               0                  0                    1   \n",
       "6013                               0                  1                    0   \n",
       "6263                               1                  0                    1   \n",
       "\n",
       "      InternetService_Fiber optic  InternetService_No  OnlineSecurity_No  \\\n",
       "5392                            0                   0                  1   \n",
       "4822                            1                   0                  0   \n",
       "2555                            0                   0                  0   \n",
       "6013                            1                   0                  1   \n",
       "6263                            0                   0                  1   \n",
       "\n",
       "      OnlineSecurity_No internet service  OnlineSecurity_Yes  OnlineBackup_No  \\\n",
       "5392                                   0                   0                0   \n",
       "4822                                   0                   1                1   \n",
       "2555                                   0                   1                1   \n",
       "6013                                   0                   0                1   \n",
       "6263                                   0                   0                1   \n",
       "\n",
       "      OnlineBackup_No internet service  OnlineBackup_Yes  DeviceProtection_No  \\\n",
       "5392                                 0                 1                    0   \n",
       "4822                                 0                 0                    0   \n",
       "2555                                 0                 0                    1   \n",
       "6013                                 0                 0                    1   \n",
       "6263                                 0                 0                    0   \n",
       "\n",
       "      DeviceProtection_No internet service  DeviceProtection_Yes  \\\n",
       "5392                                     0                     1   \n",
       "4822                                     0                     1   \n",
       "2555                                     0                     0   \n",
       "6013                                     0                     0   \n",
       "6263                                     0                     1   \n",
       "\n",
       "      TechSupport_No  TechSupport_No internet service  TechSupport_Yes  \\\n",
       "5392               0                                0                1   \n",
       "4822               0                                0                1   \n",
       "2555               1                                0                0   \n",
       "6013               0                                0                1   \n",
       "6263               0                                0                1   \n",
       "\n",
       "      StreamingTV_No  StreamingTV_No internet service  StreamingTV_Yes  \\\n",
       "5392               1                                0                0   \n",
       "4822               0                                0                1   \n",
       "2555               0                                0                1   \n",
       "6013               0                                0                1   \n",
       "6263               0                                0                1   \n",
       "\n",
       "      StreamingMovies_No  StreamingMovies_No internet service  \\\n",
       "5392                   1                                    0   \n",
       "4822                   0                                    0   \n",
       "2555                   1                                    0   \n",
       "6013                   0                                    0   \n",
       "6263                   0                                    0   \n",
       "\n",
       "      StreamingMovies_Yes  Contract_Month-to-month  Contract_One year  \\\n",
       "5392                    0                        0                  0   \n",
       "4822                    1                        0                  0   \n",
       "2555                    0                        1                  0   \n",
       "6013                    1                        0                  1   \n",
       "6263                    1                        0                  1   \n",
       "\n",
       "      Contract_Two year  PaperlessBilling_No  PaperlessBilling_Yes  \\\n",
       "5392                  1                    1                     0   \n",
       "4822                  1                    0                     1   \n",
       "2555                  0                    0                     1   \n",
       "6013                  0                    0                     1   \n",
       "6263                  0                    1                     0   \n",
       "\n",
       "      PaymentMethod_Bank transfer (automatic)  \\\n",
       "5392                                        1   \n",
       "4822                                        0   \n",
       "2555                                        0   \n",
       "6013                                        0   \n",
       "6263                                        0   \n",
       "\n",
       "      PaymentMethod_Credit card (automatic)  PaymentMethod_Electronic check  \\\n",
       "5392                                      0                               0   \n",
       "4822                                      1                               0   \n",
       "2555                                      0                               1   \n",
       "6013                                      0                               1   \n",
       "6263                                      0                               1   \n",
       "\n",
       "      PaymentMethod_Mailed check  \n",
       "5392                           0  \n",
       "4822                           0  \n",
       "2555                           0  \n",
       "6013                           0  \n",
       "6263                           0  "
      ]
     },
     "execution_count": 71,
     "metadata": {},
     "output_type": "execute_result"
    }
   ],
   "source": [
    "# preview\n",
    "X.head()"
   ]
  },
  {
   "cell_type": "code",
   "execution_count": 72,
   "metadata": {},
   "outputs": [],
   "source": [
    "#Train-test split\n",
    "X_train, X_test, y_train, y_test = train_test_split(X, Y, test_size = 0.3, random_state = 42)"
   ]
  },
  {
   "cell_type": "markdown",
   "metadata": {},
   "source": [
    "## Models\n",
    "\n",
    "## 1. Bernoulli Naive Bayes Classifier"
   ]
  },
  {
   "cell_type": "code",
   "execution_count": 73,
   "metadata": {},
   "outputs": [
    {
     "name": "stdout",
     "output_type": "stream",
     "text": [
      "[0.72727273 0.71657754 0.67112299 0.69786096 0.69518717 0.69786096\n",
      " 0.69251337 0.72192513 0.72192513 0.66935484]\n",
      "Training set score: 0.7033639143730887\n",
      "\n",
      "Test set score: 0.6934046345811051\n",
      "             precision    recall  f1-score   support\n",
      "\n",
      "          0       0.73      0.63      0.68       578\n",
      "          1       0.66      0.76      0.71       544\n",
      "\n",
      "avg / total       0.70      0.69      0.69      1122\n",
      "\n",
      "Confusion matrix\n",
      "[[366 212]\n",
      " [132 412]]\n"
     ]
    },
    {
     "data": {
      "image/png": "[encoded data removed]",
      "text/plain": [
       "<Figure size 432x288 with 1 Axes>"
      ]
     },
     "metadata": {},
     "output_type": "display_data"
    },
    {
     "name": "stdout",
     "output_type": "stream",
     "text": [
      "\n",
      "Runtime: 0.22 seconds\n"
     ]
    }
   ],
   "source": [
    "# bernoulli\n",
    "start_time = time.clock()\n",
    "mnb = MultinomialNB()\n",
    "mnb.fit(X_train, y_train)\n",
    "y_Naive = mnb.predict(X_test)\n",
    "\n",
    "# score\n",
    "score_mnb = cross_val_score(mnb, X, Y, cv=10)\n",
    "print(score_mnb)\n",
    "print('Training set score:', mnb.score(X_train, y_train))\n",
    "print('\\nTest set score:', mnb.score(X_test, y_test))\n",
    "\n",
    "# Classification report \n",
    "print(classification_report(y_test, y_Naive))\n",
    "\n",
    "#Confusion matrix \n",
    "print('Confusion matrix')\n",
    "print(confusion_matrix(y_test, y_Naive))\n",
    "\n",
    "# AUC \n",
    "y_pred_proba = mnb.predict_proba(X_test)[::,1]\n",
    "fpr, tpr, _ = metrics.roc_curve(y_test,  y_pred_proba)\n",
    "auc = metrics.roc_auc_score(y_test, y_pred_proba)\n",
    "plt.plot(fpr,tpr,label='auc='+str(auc))\n",
    "plt.legend(loc=4)\n",
    "plt.show()\n",
    "print('\\nRuntime: {} seconds'.format(round((time.clock()-start_time),2)))"
   ]
  },
  {
   "cell_type": "code",
   "execution_count": null,
   "metadata": {},
   "outputs": [],
   "source": []
  },
  {
   "cell_type": "markdown",
   "metadata": {},
   "source": [
    "## 2. KNN Classifier (K-nearest neighbors)"
   ]
  },
  {
   "cell_type": "code",
   "execution_count": 74,
   "metadata": {},
   "outputs": [
    {
     "name": "stdout",
     "output_type": "stream",
     "text": [
      "[0.72459893 0.72994652 0.70855615 0.70855615 0.69518717 0.68983957\n",
      " 0.71657754 0.7486631  0.71657754 0.68548387]\n",
      "Training set score: 0.9988532110091743\n",
      "\n",
      "Test set score: 0.6827094474153298\n",
      "             precision    recall  f1-score   support\n",
      "\n",
      "          0       0.70      0.68      0.69       578\n",
      "          1       0.67      0.68      0.68       544\n",
      "\n",
      "avg / total       0.68      0.68      0.68      1122\n",
      "\n",
      "Confusion matrix\n",
      "[[395 183]\n",
      " [173 371]]\n"
     ]
    },
    {
     "data": {
      "image/png": "[encoded data removed]",
      "text/plain": [
       "<Figure size 432x288 with 1 Axes>"
      ]
     },
     "metadata": {},
     "output_type": "display_data"
    },
    {
     "name": "stdout",
     "output_type": "stream",
     "text": [
      "\n",
      "Runtime: 0.56 seconds\n"
     ]
    }
   ],
   "source": [
    "# Fit the data to knn model \n",
    "start_time = time.clock()\n",
    "neigh = KNeighborsClassifier(n_neighbors=50, weights='distance')\n",
    "neigh.fit(X_train, y_train)\n",
    "y_knn = neigh.predict(X_test)\n",
    "\n",
    "# score\n",
    "score_neigh = cross_val_score(neigh, X, Y, cv=10)\n",
    "print(score_neigh)\n",
    "print('Training set score:', neigh.score(X_train, y_train))\n",
    "print('\\nTest set score:', neigh.score(X_test, y_test))\n",
    "\n",
    "# Classification report \n",
    "print(classification_report(y_test, y_knn))\n",
    "\n",
    "#Confusion matrix \n",
    "print('Confusion matrix')\n",
    "print(confusion_matrix(y_test, y_knn))\n",
    "\n",
    "# AUC \n",
    "y_pred_proba = neigh.predict_proba(X_test)[::,1]\n",
    "fpr, tpr, _ = metrics.roc_curve(y_test,  y_pred_proba)\n",
    "auc = metrics.roc_auc_score(y_test, y_pred_proba)\n",
    "plt.plot(fpr,tpr,label='auc='+str(auc))\n",
    "plt.legend(loc=4)\n",
    "plt.show()\n",
    "print('\\nRuntime: {} seconds'.format(round((time.clock()-start_time),2)))"
   ]
  },
  {
   "cell_type": "markdown",
   "metadata": {},
   "source": [
    "## 3. Logistics Regression"
   ]
  },
  {
   "cell_type": "code",
   "execution_count": 75,
   "metadata": {
    "scrolled": false
   },
   "outputs": [
    {
     "name": "stdout",
     "output_type": "stream",
     "text": [
      "Training set score: 0.77217125382263\n",
      "\n",
      "Test set score: 0.7513368983957219\n",
      "[0.78342246 0.76203209 0.74064171 0.77540107 0.72994652 0.77807487\n",
      " 0.77540107 0.78074866 0.76737968 0.72580645]\n",
      "Confusion matrix\n",
      "[[417 161]\n",
      " [118 426]]\n",
      "             precision    recall  f1-score   support\n",
      "\n",
      "          0       0.78      0.72      0.75       578\n",
      "          1       0.73      0.78      0.75       544\n",
      "\n",
      "avg / total       0.75      0.75      0.75      1122\n",
      "\n"
     ]
    },
    {
     "data": {
      "image/png": "[encoded data removed]",
      "text/plain": [
       "<Figure size 432x288 with 1 Axes>"
      ]
     },
     "metadata": {},
     "output_type": "display_data"
    },
    {
     "name": "stdout",
     "output_type": "stream",
     "text": [
      "\n",
      "Runtime: 0.46 seconds\n"
     ]
    }
   ],
   "source": [
    "# Binary classification using logistics regression\n",
    "start_time = time.clock()\n",
    "logreg = LogisticRegression()\n",
    "logreg.fit(X_train, y_train)\n",
    "\n",
    "# Predict using the test set\n",
    "y_logreg = logreg.predict(X_test)\n",
    "\n",
    "# Compare scores for train and test sets\n",
    "print('Training set score:', logreg.score(X_train, y_train))\n",
    "print('\\nTest set score:', logreg.score(X_test, y_test))\n",
    "\n",
    "# Ten fold cross validation score to evaluate the model \n",
    "score_logreg = cross_val_score(logreg, X, Y, cv=10)\n",
    "print(score_logreg)\n",
    "\n",
    "#Confusion matrix for logistics regression classifier\n",
    "print('Confusion matrix')\n",
    "print(confusion_matrix(y_test, y_logreg))\n",
    "\n",
    "# Classification report \n",
    "print(classification_report(y_test, y_logreg))\n",
    "\n",
    "# AUC classifier\n",
    "y_logreg_proba = logreg.predict_proba(X_test)[::,1]\n",
    "fpr_logreg, tpr_logreg, _ = metrics.roc_curve(y_test,  y_logreg)\n",
    "auc_logreg = metrics.roc_auc_score(y_test, y_logreg_proba)\n",
    "plt.plot(fpr_logreg,tpr_logreg,label='auc_logreg='+str(auc_logreg))\n",
    "plt.legend(loc=4)\n",
    "plt.show()\n",
    "print('\\nRuntime: {} seconds'.format(round((time.clock()-start_time),2)))"
   ]
  },
  {
   "cell_type": "markdown",
   "metadata": {},
   "source": [
    "## 4. Ridge Classifier"
   ]
  },
  {
   "cell_type": "code",
   "execution_count": 76,
   "metadata": {},
   "outputs": [
    {
     "name": "stdout",
     "output_type": "stream",
     "text": [
      "[0.78609626 0.75935829 0.72994652 0.76737968 0.7486631  0.74331551\n",
      " 0.76737968 0.77540107 0.76737968 0.7311828 ]\n",
      "Training set score: 0.7660550458715596\n",
      "\n",
      "Test set score: 0.7468805704099821\n",
      "Confusion matrix\n",
      "[[417 161]\n",
      " [123 421]]\n",
      "             precision    recall  f1-score   support\n",
      "\n",
      "          0       0.77      0.72      0.75       578\n",
      "          1       0.72      0.77      0.75       544\n",
      "\n",
      "avg / total       0.75      0.75      0.75      1122\n",
      "\n"
     ]
    },
    {
     "ename": "AttributeError",
     "evalue": "'RidgeClassifier' object has no attribute 'predict_proba'",
     "output_type": "error",
     "traceback": [
      "\u001b[1;31m---------------------------------------------------------------------------\u001b[0m",
      "\u001b[1;31mAttributeError\u001b[0m                            Traceback (most recent call last)",
      "\u001b[1;32m<ipython-input-76-ab777122e9ce>\u001b[0m in \u001b[0;36m<module>\u001b[1;34m()\u001b[0m\n\u001b[0;32m     20\u001b[0m \u001b[1;33m\u001b[0m\u001b[0m\n\u001b[0;32m     21\u001b[0m \u001b[1;31m# AUC\u001b[0m\u001b[1;33m\u001b[0m\u001b[1;33m\u001b[0m\u001b[0m\n\u001b[1;32m---> 22\u001b[1;33m \u001b[0my_ridge_proba\u001b[0m \u001b[1;33m=\u001b[0m \u001b[0mridge\u001b[0m\u001b[1;33m.\u001b[0m\u001b[0mpredict_proba\u001b[0m\u001b[1;33m(\u001b[0m\u001b[0mX_test\u001b[0m\u001b[1;33m)\u001b[0m\u001b[1;33m[\u001b[0m\u001b[1;33m:\u001b[0m\u001b[1;33m:\u001b[0m\u001b[1;33m,\u001b[0m\u001b[1;36m1\u001b[0m\u001b[1;33m]\u001b[0m\u001b[1;33m\u001b[0m\u001b[0m\n\u001b[0m\u001b[0;32m     23\u001b[0m \u001b[0mfpr_ridge\u001b[0m\u001b[1;33m,\u001b[0m \u001b[0mtpr_ridge\u001b[0m\u001b[1;33m,\u001b[0m \u001b[0m_\u001b[0m \u001b[1;33m=\u001b[0m \u001b[0mmetrics\u001b[0m\u001b[1;33m.\u001b[0m\u001b[0mroc_curve\u001b[0m\u001b[1;33m(\u001b[0m\u001b[0my_test\u001b[0m\u001b[1;33m,\u001b[0m  \u001b[0my_ridge\u001b[0m\u001b[1;33m)\u001b[0m\u001b[1;33m\u001b[0m\u001b[0m\n\u001b[0;32m     24\u001b[0m \u001b[0mauc_ridge\u001b[0m \u001b[1;33m=\u001b[0m \u001b[0mmetrics\u001b[0m\u001b[1;33m.\u001b[0m\u001b[0mroc_auc_score\u001b[0m\u001b[1;33m(\u001b[0m\u001b[0my_test\u001b[0m\u001b[1;33m,\u001b[0m \u001b[0my_ridge_proba\u001b[0m\u001b[1;33m)\u001b[0m\u001b[1;33m\u001b[0m\u001b[0m\n",
      "\u001b[1;31mAttributeError\u001b[0m: 'RidgeClassifier' object has no attribute 'predict_proba'"
     ]
    }
   ],
   "source": [
    "# Ridge classifier\n",
    "start_time = time.clock()\n",
    "ridge = RidgeClassifier()\n",
    "ridge.fit(X_train, y_train)\n",
    "\n",
    "y_ridge = ridge.predict(X_test)\n",
    "\n",
    "# Evaluations\n",
    "score_ridge = cross_val_score(ridge, X, Y, cv=10)\n",
    "print(score_ridge)\n",
    "print('Training set score:', ridge.score(X_train, y_train))\n",
    "print('\\nTest set score:', ridge.score(X_test, y_test))\n",
    "\n",
    "#Confusion matrix for logistics regression classifier\n",
    "print('Confusion matrix')\n",
    "print(confusion_matrix(y_test, y_ridge))\n",
    "\n",
    "# Classification report \n",
    "print(classification_report(y_test, y_ridge)) \n",
    "\n",
    "# AUC\n",
    "y_ridge_proba = ridge.predict_proba(X_test)[::,1]\n",
    "fpr_ridge, tpr_ridge, _ = metrics.roc_curve(y_test,  y_ridge)\n",
    "auc_ridge = metrics.roc_auc_score(y_test, y_ridge_proba)\n",
    "plt.plot(fpr_ridge,tpr_ridge,label='auc_ridge='+str(auc_ridge))\n",
    "plt.legend(loc=4)\n",
    "plt.show()\n",
    "print('\\nRuntime: {} seconds'.format(round((time.clock()-start_time),2)))"
   ]
  },
  {
   "cell_type": "markdown",
   "metadata": {},
   "source": [
    "## 5. Lasso (Logistics regression with l1 regularization parameter)"
   ]
  },
  {
   "cell_type": "code",
   "execution_count": 77,
   "metadata": {},
   "outputs": [
    {
     "name": "stdout",
     "output_type": "stream",
     "text": [
      "Training set score: 0.7717889908256881\n",
      "\n",
      "Test set score: 0.749554367201426\n",
      "[0.78074866 0.76203209 0.74331551 0.77540107 0.73262032 0.77540107\n",
      " 0.77272727 0.78342246 0.76203209 0.72580645]\n",
      "Confusion matrix\n",
      "[[415 163]\n",
      " [118 426]]\n",
      "             precision    recall  f1-score   support\n",
      "\n",
      "          0       0.78      0.72      0.75       578\n",
      "          1       0.72      0.78      0.75       544\n",
      "\n",
      "avg / total       0.75      0.75      0.75      1122\n",
      "\n"
     ]
    },
    {
     "data": {
      "image/png": "[encoded data removed]",
      "text/plain": [
       "<Figure size 432x288 with 1 Axes>"
      ]
     },
     "metadata": {},
     "output_type": "display_data"
    },
    {
     "name": "stdout",
     "output_type": "stream",
     "text": [
      "\n",
      "Runtime: 1.39 seconds\n"
     ]
    }
   ],
   "source": [
    "\n",
    "start_time = time.clock()\n",
    "lasso = LogisticRegression(penalty='l1')\n",
    "lasso.fit(X_train, y_train)\n",
    "\n",
    "y_lasso = lasso.predict(X_test)\n",
    "\n",
    "# Evaluations\n",
    "print('Training set score:', lasso.score(X_train, y_train))\n",
    "print('\\nTest set score:', lasso.score(X_test, y_test))\n",
    "\n",
    "score_lasso = cross_val_score(lasso, X, Y, cv=10)\n",
    "print(score_lasso)\n",
    "\n",
    "#Confusion matrix for logistics regression classifier\n",
    "print('Confusion matrix')\n",
    "print(confusion_matrix(y_test, y_lasso))\n",
    "\n",
    "# Classification report \n",
    "print(classification_report(y_test, y_lasso))\n",
    "\n",
    "# AUC\n",
    "y_lasso_proba = lasso.predict_proba(X_test)[::,1]\n",
    "fpr_lasso, tpr_lasso, _ = metrics.roc_curve(y_test,  y_lasso)\n",
    "auc_lasso = metrics.roc_auc_score(y_test, y_lasso_proba)\n",
    "plt.plot(fpr_lasso,tpr_lasso,label='auc_lasso='+str(auc_lasso))\n",
    "plt.legend(loc=4)\n",
    "plt.show()\n",
    "print('\\nRuntime: {} seconds'.format(round((time.clock()-start_time),2)))"
   ]
  },
  {
   "cell_type": "markdown",
   "metadata": {},
   "source": [
    "## 6. Decision Tree Classifier"
   ]
  },
  {
   "cell_type": "code",
   "execution_count": 78,
   "metadata": {},
   "outputs": [
    {
     "name": "stdout",
     "output_type": "stream",
     "text": [
      "tree_para: {'criterion': 'entropy', 'max_depth': 4}\n",
      "Training set score: 0.7694954128440367\n",
      "\n",
      "Test set score: 0.7406417112299465\n",
      "[0.7486631  0.75668449 0.7540107  0.74064171 0.73529412 0.7459893\n",
      " 0.78074866 0.74064171 0.78342246 0.72580645]\n",
      "Confusion matrix\n",
      "[[432 146]\n",
      " [145 399]]\n",
      "             precision    recall  f1-score   support\n",
      "\n",
      "          0       0.75      0.75      0.75       578\n",
      "          1       0.73      0.73      0.73       544\n",
      "\n",
      "avg / total       0.74      0.74      0.74      1122\n",
      "\n"
     ]
    },
    {
     "data": {
      "image/png": "[encoded data removed]",
      "text/plain": [
       "<Figure size 432x288 with 1 Axes>"
      ]
     },
     "metadata": {},
     "output_type": "display_data"
    },
    {
     "name": "stdout",
     "output_type": "stream",
     "text": [
      "\n",
      "Runtime: 10.28 seconds\n"
     ]
    }
   ],
   "source": [
    "# Decision tree using GridSearchCV parameters\n",
    "start_time = time.clock()\n",
    "tree_para = {'criterion':['gini','entropy'],'max_depth':[4,5,6,7,8,9,10,11,12,15,20,30,40,50,70,90,120,150,200,300,350,400,500]}\n",
    "tree = GridSearchCV(DecisionTreeClassifier(), tree_para, cv=10)\n",
    "grid_fit = tree.fit(X_train, y_train)\n",
    "\n",
    "best_tree = grid_fit.best_estimator_\n",
    "y_tree = best_tree.predict(X_test)\n",
    "\n",
    "#print best parameters\n",
    "print('tree_para:', tree.best_params_)\n",
    "\n",
    "# Evaluations\n",
    "print('Training set score:', best_tree.score(X_train, y_train))\n",
    "print('\\nTest set score:', best_tree.score(X_test, y_test))\n",
    "\n",
    "score_tree = cross_val_score(best_tree, X, Y, cv=10)\n",
    "print(score_tree)\n",
    "\n",
    "#Confusion matrix for decision tree\n",
    "print('Confusion matrix')\n",
    "print(confusion_matrix(y_test, y_tree))\n",
    "\n",
    "# Classification report \n",
    "print(classification_report(y_test, y_tree))\n",
    "\n",
    "# AUC for decision tree classifier\n",
    "y_tree_proba = best_tree.predict_proba(X_test)[::,1]\n",
    "fpr_tree, tpr_tree, _ = metrics.roc_curve(y_test,  y_tree)\n",
    "auc_tree = metrics.roc_auc_score(y_test, y_tree_proba)\n",
    "plt.plot(fpr_tree,tpr_tree,label='auc_tree='+str(auc_tree))\n",
    "plt.legend(loc=4)\n",
    "plt.show()\n",
    "print('\\nRuntime: {} seconds'.format(round((time.clock()-start_time),2)))"
   ]
  },
  {
   "cell_type": "markdown",
   "metadata": {},
   "source": [
    "## 7. Random Forest"
   ]
  },
  {
   "cell_type": "code",
   "execution_count": 79,
   "metadata": {},
   "outputs": [
    {
     "name": "stdout",
     "output_type": "stream",
     "text": [
      "forest_para: {'criterion': 'entropy', 'max_depth': 7, 'n_estimators': 500}\n",
      "[0.80213904 0.76470588 0.73529412 0.77005348 0.75668449 0.75935829\n",
      " 0.78877005 0.77807487 0.76737968 0.75      ]\n",
      "Confusion matrix\n",
      "[[413 165]\n",
      " [109 435]]\n",
      "             precision    recall  f1-score   support\n",
      "\n",
      "          0       0.79      0.71      0.75       578\n",
      "          1       0.72      0.80      0.76       544\n",
      "\n",
      "avg / total       0.76      0.76      0.76      1122\n",
      "\n"
     ]
    },
    {
     "data": {
      "image/png": "[encoded data removed]",
      "text/plain": [
       "<Figure size 432x288 with 1 Axes>"
      ]
     },
     "metadata": {},
     "output_type": "display_data"
    },
    {
     "name": "stdout",
     "output_type": "stream",
     "text": [
      "\n",
      "Runtime: 2259.63 seconds\n"
     ]
    }
   ],
   "source": [
    "# Random forest with GridsearchCV\n",
    "start_time = time.clock()\n",
    "forest_para = {'criterion':['gini','entropy'],'n_estimators':[10,20,50,70,100,250,400,500],'max_depth':[4,5,6,7,8,9,10,11,12,15,20,30,40,50,70,90,120,150, 200,300,400,500]}\n",
    "forest = GridSearchCV(ensemble.RandomForestClassifier(), forest_para, cv=10)\n",
    "grid_fit_forest = forest.fit(X_train, y_train)\n",
    "\n",
    "best_forest = grid_fit_forest.best_estimator_\n",
    "y_forest = best_forest.predict(X_test)\n",
    "\n",
    "#Print best parameters\n",
    "print('forest_para:', forest.best_params_)\n",
    "\n",
    "# Evaluations\n",
    "score_forest = cross_val_score(best_forest, X, Y, cv=10)\n",
    "print(score_forest)\n",
    "\n",
    "#Confusion matrix for random forest\n",
    "print('Confusion matrix')\n",
    "print(confusion_matrix(y_test, y_forest))\n",
    "\n",
    "# Classification report \n",
    "print(classification_report(y_test, y_forest))\n",
    "\n",
    "# AUC for random forest classifier\n",
    "y_forest_proba = forest.predict_proba(X_test)[::,1]\n",
    "fpr_forest, tpr_forest, _ = metrics.roc_curve(y_test,  y_forest)\n",
    "auc_forest = metrics.roc_auc_score(y_test, y_forest_proba)\n",
    "plt.plot(fpr_forest,tpr_forest,label='auc_forest='+str(auc_forest))\n",
    "plt.legend(loc=4)\n",
    "plt.show()\n",
    "print('\\nRuntime: {} seconds'.format(round((time.clock()-start_time),2)))"
   ]
  },
  {
   "cell_type": "markdown",
   "metadata": {},
   "source": [
    "## 8. Support Vector Classifier (SVC)"
   ]
  },
  {
   "cell_type": "code",
   "execution_count": 80,
   "metadata": {},
   "outputs": [
    {
     "name": "stdout",
     "output_type": "stream",
     "text": [
      "[0.80213904 0.76470588 0.73529412 0.77005348 0.75668449 0.75935829\n",
      " 0.78877005 0.77807487 0.76737968 0.75      ]\n",
      "Training set score: 0.7706422018348624\n",
      "\n",
      "Test set score: 0.7183600713012478\n",
      "Confusion matrix\n",
      "[[393 185]\n",
      " [131 413]]\n",
      "             precision    recall  f1-score   support\n",
      "\n",
      "          0       0.75      0.68      0.71       578\n",
      "          1       0.69      0.76      0.72       544\n",
      "\n",
      "avg / total       0.72      0.72      0.72      1122\n",
      "\n"
     ]
    },
    {
     "data": {
      "image/png": "[encoded data removed]",
      "text/plain": [
       "<Figure size 432x288 with 1 Axes>"
      ]
     },
     "metadata": {},
     "output_type": "display_data"
    },
    {
     "name": "stdout",
     "output_type": "stream",
     "text": [
      "\n",
      "Runtime: 4036.82 seconds\n"
     ]
    }
   ],
   "source": [
    "# Set the parameters by cross-validation\n",
    "# reference http://scikit-learn.org/stable/auto_examples/model_selection/plot_grid_search_digits.html\n",
    "start_time = time.clock()\n",
    "tuned_parameters = [{'kernel': ['rbf'], 'gamma': [1e-3, 1e-4],\n",
    "                     'C': [1, 10, 100, 1000]},\n",
    "                    {'kernel': ['rbf'], 'C': [1, 10, 100, 500]}]\n",
    "clf = GridSearchCV(SVC(probability=True), tuned_parameters, cv=5)\n",
    "clf.fit(X_train, y_train)\n",
    "\n",
    "clf.best_params_\n",
    "\n",
    "#best_forest = grid_fit_forest.best_estimator_\n",
    "y_svc = clf.predict(X_test)\n",
    "\n",
    "# Evaluations\n",
    "score_clf = cross_val_score(clf, X, Y, cv=10)\n",
    "print(score_forest)\n",
    "\n",
    "print('Training set score:', clf.score(X_train, y_train))\n",
    "print('\\nTest set score:', clf.score(X_test, y_test))\n",
    "\n",
    "#Confusion matrix for logistics regression classifier\n",
    "print('Confusion matrix')\n",
    "print(confusion_matrix(y_test, y_svc))\n",
    "\n",
    "# Classification report \n",
    "print(classification_report(y_test, y_svc))\n",
    "\n",
    "# AUC\n",
    "y_svc_proba = clf.predict_proba(X_test)[::,1]\n",
    "fpr_clf, tpr_clf, _ = metrics.roc_curve(y_test,  y_svc)\n",
    "auc_svc = metrics.roc_auc_score(y_test, y_svc_proba)\n",
    "plt.plot(fpr_clf,tpr_clf,label='auc_lasso='+str(auc_svc))\n",
    "plt.legend(loc=4)\n",
    "plt.show()\n",
    "print('\\nRuntime: {} seconds'.format(round((time.clock()-start_time),2)))"
   ]
  },
  {
   "cell_type": "markdown",
   "metadata": {},
   "source": [
    "## 9. Gradient Boost Classification"
   ]
  },
  {
   "cell_type": "code",
   "execution_count": 81,
   "metadata": {},
   "outputs": [
    {
     "name": "stdout",
     "output_type": "stream",
     "text": [
      "{'learning_rate': [0.1, 0.05, 0.02, 0.01], 'max_depth': [4, 6, 8], 'min_samples_leaf': [20, 50, 100, 150]}\n",
      "Fitting 5 folds for each of 48 candidates, totalling 240 fits\n"
     ]
    },
    {
     "name": "stderr",
     "output_type": "stream",
     "text": [
      "[Parallel(n_jobs=10)]: Done  12 tasks      | elapsed:   41.1s\n",
      "[Parallel(n_jobs=10)]: Done 108 tasks      | elapsed:  2.3min\n",
      "[Parallel(n_jobs=10)]: Done 240 out of 240 | elapsed:  5.1min finished\n"
     ]
    },
    {
     "name": "stdout",
     "output_type": "stream",
     "text": [
      "Fitting 5 folds for each of 48 candidates, totalling 240 fits\n"
     ]
    },
    {
     "name": "stderr",
     "output_type": "stream",
     "text": [
      "[Parallel(n_jobs=10)]: Done  12 tasks      | elapsed:   39.2s\n",
      "[Parallel(n_jobs=10)]: Done 108 tasks      | elapsed:  2.7min\n",
      "[Parallel(n_jobs=10)]: Done 240 out of 240 | elapsed:  5.8min finished\n"
     ]
    },
    {
     "name": "stdout",
     "output_type": "stream",
     "text": [
      "Fitting 5 folds for each of 48 candidates, totalling 240 fits\n"
     ]
    },
    {
     "name": "stderr",
     "output_type": "stream",
     "text": [
      "[Parallel(n_jobs=10)]: Done  12 tasks      | elapsed:   32.1s\n",
      "[Parallel(n_jobs=10)]: Done 108 tasks      | elapsed:  2.4min\n",
      "[Parallel(n_jobs=10)]: Done 240 out of 240 | elapsed:  5.4min finished\n"
     ]
    },
    {
     "name": "stdout",
     "output_type": "stream",
     "text": [
      "Fitting 5 folds for each of 48 candidates, totalling 240 fits\n"
     ]
    },
    {
     "name": "stderr",
     "output_type": "stream",
     "text": [
      "[Parallel(n_jobs=10)]: Done  12 tasks      | elapsed:   32.0s\n",
      "[Parallel(n_jobs=10)]: Done 108 tasks      | elapsed:  2.5min\n",
      "[Parallel(n_jobs=10)]: Done 240 out of 240 | elapsed:  5.5min finished\n"
     ]
    },
    {
     "name": "stdout",
     "output_type": "stream",
     "text": [
      "Fitting 5 folds for each of 48 candidates, totalling 240 fits\n"
     ]
    },
    {
     "name": "stderr",
     "output_type": "stream",
     "text": [
      "[Parallel(n_jobs=10)]: Done  12 tasks      | elapsed:   32.4s\n",
      "[Parallel(n_jobs=10)]: Done 108 tasks      | elapsed:  2.5min\n",
      "[Parallel(n_jobs=10)]: Done 240 out of 240 | elapsed:  5.5min finished\n"
     ]
    },
    {
     "name": "stdout",
     "output_type": "stream",
     "text": [
      "Fitting 5 folds for each of 48 candidates, totalling 240 fits\n"
     ]
    },
    {
     "name": "stderr",
     "output_type": "stream",
     "text": [
      "[Parallel(n_jobs=10)]: Done  12 tasks      | elapsed:   32.0s\n",
      "[Parallel(n_jobs=10)]: Done 108 tasks      | elapsed:  2.5min\n",
      "[Parallel(n_jobs=10)]: Done 240 out of 240 | elapsed:  5.5min finished\n"
     ]
    },
    {
     "name": "stdout",
     "output_type": "stream",
     "text": [
      "[0.86121994 0.84139524 0.82462324 0.8558509  0.8366516 ]\n",
      "Confusion matrix\n",
      "[[414 164]\n",
      " [113 431]]\n",
      "             precision    recall  f1-score   support\n",
      "\n",
      "          0       0.79      0.72      0.75       578\n",
      "          1       0.72      0.79      0.76       544\n",
      "\n",
      "avg / total       0.76      0.75      0.75      1122\n",
      "\n"
     ]
    },
    {
     "data": {
      "image/png": "[encoded data removed]",
      "text/plain": [
       "<Figure size 432x288 with 1 Axes>"
      ]
     },
     "metadata": {},
     "output_type": "display_data"
    },
    {
     "name": "stdout",
     "output_type": "stream",
     "text": [
      "\n",
      "Runtime: 1996.71 seconds\n"
     ]
    }
   ],
   "source": [
    "start_time = time.clock()\n",
    "gb_grid_params = {'learning_rate': [0.1, 0.05, 0.02, 0.01],\n",
    "              'max_depth': [4, 6, 8],\n",
    "              'min_samples_leaf': [20, 50,100,150],\n",
    "              #'max_features': [1.0, 0.3, 0.1] \n",
    "              }\n",
    "print(gb_grid_params)\n",
    "\n",
    "gb_gs = ensemble.GradientBoostingClassifier(n_estimators = 500)\n",
    "\n",
    "gb_clf = GridSearchCV(gb_gs,\n",
    "                   gb_grid_params,\n",
    "                   cv=5,\n",
    "                   scoring='roc_auc',\n",
    "                   verbose = 3,\n",
    "                   n_jobs=10);\n",
    "gb_clf.fit(X_train, y_train)\n",
    "predict_train = gb_clf.predict(X_train)\n",
    "predict_test = gb_clf.predict(X_test)\n",
    "\n",
    "\n",
    "# Evaluations\n",
    "score_gb = cross_val_score(gb_clf, X, Y, cv=5)\n",
    "print(score_gb)\n",
    "\n",
    "#print('Training set score:', gb_clf.score(X_train, y_train))\n",
    "#print('\\nTest set score:', gb_clf.score(X_test, y_test))\n",
    "\n",
    "#Confusion matrix for logistics regression classifier\n",
    "print('Confusion matrix')\n",
    "print(confusion_matrix(y_test, predict_test))\n",
    "\n",
    "# Classification report \n",
    "print(classification_report(y_test, predict_test))\n",
    "\n",
    "# AUC\n",
    "y_gb_proba = gb_clf.predict_proba(X_test)[::,1]\n",
    "fpr_gb, tpr_gb, _ = metrics.roc_curve(y_test,  predict_test)\n",
    "auc_gb = metrics.roc_auc_score(y_test, y_gb_proba)\n",
    "plt.plot(fpr_gb,tpr_gb,label='auc_gb='+str(auc_gb))\n",
    "plt.legend(loc=4)\n",
    "plt.show()\n",
    "print('\\nRuntime: {} seconds'.format(round((time.clock()-start_time),2)))"
   ]
  },
  {
   "cell_type": "code",
   "execution_count": null,
   "metadata": {},
   "outputs": [],
   "source": []
  },
  {
   "cell_type": "code",
   "execution_count": null,
   "metadata": {},
   "outputs": [],
   "source": []
  },
  {
   "cell_type": "code",
   "execution_count": null,
   "metadata": {},
   "outputs": [],
   "source": []
  },
  {
   "cell_type": "code",
   "execution_count": null,
   "metadata": {},
   "outputs": [],
   "source": []
  },
  {
   "cell_type": "code",
   "execution_count": null,
   "metadata": {},
   "outputs": [],
   "source": []
  },
  {
   "cell_type": "code",
   "execution_count": null,
   "metadata": {},
   "outputs": [],
   "source": []
  },
  {
   "cell_type": "markdown",
   "metadata": {},
   "source": [
    "# PCA and Select K best "
   ]
  },
  {
   "cell_type": "code",
   "execution_count": 91,
   "metadata": {},
   "outputs": [],
   "source": [
    "# Select 30 of the 44 features based on f_regression test\n",
    "# This gave the best result after many trials \n",
    "#from sklearn.feature_selection import f_regression\n",
    "selection = SelectKBest(score_func=f_regression, k=30)\n",
    "X_kbest = selection.fit(X, Y).transform(X)"
   ]
  },
  {
   "cell_type": "code",
   "execution_count": 92,
   "metadata": {},
   "outputs": [],
   "source": [
    "# transform  \n",
    "X_kbest_tra = StandardScaler().fit_transform(X_kbest)"
   ]
  },
  {
   "cell_type": "code",
   "execution_count": 95,
   "metadata": {},
   "outputs": [],
   "source": [
    "# Initiate pca\n",
    "pca =PCA(n_components=15)"
   ]
  },
  {
   "cell_type": "code",
   "execution_count": 96,
   "metadata": {},
   "outputs": [
    {
     "name": "stdout",
     "output_type": "stream",
     "text": [
      "Varience expained by principal components: [0.33254036 0.49439279 0.57312878 0.64805246 0.7039911  0.7472849\n",
      " 0.78872829 0.8277051  0.86473631 0.89534075 0.92398403 0.94619548\n",
      " 0.96625162 0.98334568 0.99591511]\n"
     ]
    }
   ],
   "source": [
    "# Fit with selected features\n",
    "X_pca = pca.fit_transform(X_kbest_tra)\n",
    "\n",
    "# Varience in pca\n",
    "varience = pca.explained_variance_ratio_.cumsum()\n",
    "print('Varience expained by principal components:', varience)"
   ]
  },
  {
   "cell_type": "code",
   "execution_count": 97,
   "metadata": {},
   "outputs": [],
   "source": [
    "X_train, X_test, y_train, y_test = train_test_split(X_pca, Y, test_size = 0.3, random_state = 42)"
   ]
  },
  {
   "cell_type": "markdown",
   "metadata": {},
   "source": [
    "## Model fit by PCA components "
   ]
  },
  {
   "cell_type": "markdown",
   "metadata": {},
   "source": [
    "## Bernouli Naive Bayes Classifier"
   ]
  },
  {
   "cell_type": "code",
   "execution_count": 98,
   "metadata": {},
   "outputs": [
    {
     "ename": "ValueError",
     "evalue": "Input X must be non-negative",
     "output_type": "error",
     "traceback": [
      "\u001b[1;31m---------------------------------------------------------------------------\u001b[0m",
      "\u001b[1;31mValueError\u001b[0m                                Traceback (most recent call last)",
      "\u001b[1;32m<ipython-input-98-bf21f72f18e6>\u001b[0m in \u001b[0;36m<module>\u001b[1;34m()\u001b[0m\n\u001b[0;32m      2\u001b[0m \u001b[0mstart_time\u001b[0m \u001b[1;33m=\u001b[0m \u001b[0mtime\u001b[0m\u001b[1;33m.\u001b[0m\u001b[0mclock\u001b[0m\u001b[1;33m(\u001b[0m\u001b[1;33m)\u001b[0m\u001b[1;33m\u001b[0m\u001b[0m\n\u001b[0;32m      3\u001b[0m \u001b[0mmnb\u001b[0m \u001b[1;33m=\u001b[0m \u001b[0mMultinomialNB\u001b[0m\u001b[1;33m(\u001b[0m\u001b[1;33m)\u001b[0m\u001b[1;33m\u001b[0m\u001b[0m\n\u001b[1;32m----> 4\u001b[1;33m \u001b[0mmnb\u001b[0m\u001b[1;33m.\u001b[0m\u001b[0mfit\u001b[0m\u001b[1;33m(\u001b[0m\u001b[0mX_train\u001b[0m\u001b[1;33m,\u001b[0m \u001b[0my_train\u001b[0m\u001b[1;33m)\u001b[0m\u001b[1;33m\u001b[0m\u001b[0m\n\u001b[0m\u001b[0;32m      5\u001b[0m \u001b[0my_Naive\u001b[0m \u001b[1;33m=\u001b[0m \u001b[0mmnb\u001b[0m\u001b[1;33m.\u001b[0m\u001b[0mpredict\u001b[0m\u001b[1;33m(\u001b[0m\u001b[0mX_test\u001b[0m\u001b[1;33m)\u001b[0m\u001b[1;33m\u001b[0m\u001b[0m\n\u001b[0;32m      6\u001b[0m \u001b[1;33m\u001b[0m\u001b[0m\n",
      "\u001b[1;32mC:\\Program Files (x86)\\Microsoft Visual Studio\\Shared\\Anaconda3_64\\lib\\site-packages\\sklearn\\naive_bayes.py\u001b[0m in \u001b[0;36mfit\u001b[1;34m(self, X, y, sample_weight)\u001b[0m\n\u001b[0;32m    602\u001b[0m         self.feature_count_ = np.zeros((n_effective_classes, n_features),\n\u001b[0;32m    603\u001b[0m                                        dtype=np.float64)\n\u001b[1;32m--> 604\u001b[1;33m         \u001b[0mself\u001b[0m\u001b[1;33m.\u001b[0m\u001b[0m_count\u001b[0m\u001b[1;33m(\u001b[0m\u001b[0mX\u001b[0m\u001b[1;33m,\u001b[0m \u001b[0mY\u001b[0m\u001b[1;33m)\u001b[0m\u001b[1;33m\u001b[0m\u001b[0m\n\u001b[0m\u001b[0;32m    605\u001b[0m         \u001b[0malpha\u001b[0m \u001b[1;33m=\u001b[0m \u001b[0mself\u001b[0m\u001b[1;33m.\u001b[0m\u001b[0m_check_alpha\u001b[0m\u001b[1;33m(\u001b[0m\u001b[1;33m)\u001b[0m\u001b[1;33m\u001b[0m\u001b[0m\n\u001b[0;32m    606\u001b[0m         \u001b[0mself\u001b[0m\u001b[1;33m.\u001b[0m\u001b[0m_update_feature_log_prob\u001b[0m\u001b[1;33m(\u001b[0m\u001b[0malpha\u001b[0m\u001b[1;33m)\u001b[0m\u001b[1;33m\u001b[0m\u001b[0m\n",
      "\u001b[1;32mC:\\Program Files (x86)\\Microsoft Visual Studio\\Shared\\Anaconda3_64\\lib\\site-packages\\sklearn\\naive_bayes.py\u001b[0m in \u001b[0;36m_count\u001b[1;34m(self, X, Y)\u001b[0m\n\u001b[0;32m    706\u001b[0m         \u001b[1;34m\"\"\"Count and smooth feature occurrences.\"\"\"\u001b[0m\u001b[1;33m\u001b[0m\u001b[0m\n\u001b[0;32m    707\u001b[0m         \u001b[1;32mif\u001b[0m \u001b[0mnp\u001b[0m\u001b[1;33m.\u001b[0m\u001b[0many\u001b[0m\u001b[1;33m(\u001b[0m\u001b[1;33m(\u001b[0m\u001b[0mX\u001b[0m\u001b[1;33m.\u001b[0m\u001b[0mdata\u001b[0m \u001b[1;32mif\u001b[0m \u001b[0missparse\u001b[0m\u001b[1;33m(\u001b[0m\u001b[0mX\u001b[0m\u001b[1;33m)\u001b[0m \u001b[1;32melse\u001b[0m \u001b[0mX\u001b[0m\u001b[1;33m)\u001b[0m \u001b[1;33m<\u001b[0m \u001b[1;36m0\u001b[0m\u001b[1;33m)\u001b[0m\u001b[1;33m:\u001b[0m\u001b[1;33m\u001b[0m\u001b[0m\n\u001b[1;32m--> 708\u001b[1;33m             \u001b[1;32mraise\u001b[0m \u001b[0mValueError\u001b[0m\u001b[1;33m(\u001b[0m\u001b[1;34m\"Input X must be non-negative\"\u001b[0m\u001b[1;33m)\u001b[0m\u001b[1;33m\u001b[0m\u001b[0m\n\u001b[0m\u001b[0;32m    709\u001b[0m         \u001b[0mself\u001b[0m\u001b[1;33m.\u001b[0m\u001b[0mfeature_count_\u001b[0m \u001b[1;33m+=\u001b[0m \u001b[0msafe_sparse_dot\u001b[0m\u001b[1;33m(\u001b[0m\u001b[0mY\u001b[0m\u001b[1;33m.\u001b[0m\u001b[0mT\u001b[0m\u001b[1;33m,\u001b[0m \u001b[0mX\u001b[0m\u001b[1;33m)\u001b[0m\u001b[1;33m\u001b[0m\u001b[0m\n\u001b[0;32m    710\u001b[0m         \u001b[0mself\u001b[0m\u001b[1;33m.\u001b[0m\u001b[0mclass_count_\u001b[0m \u001b[1;33m+=\u001b[0m \u001b[0mY\u001b[0m\u001b[1;33m.\u001b[0m\u001b[0msum\u001b[0m\u001b[1;33m(\u001b[0m\u001b[0maxis\u001b[0m\u001b[1;33m=\u001b[0m\u001b[1;36m0\u001b[0m\u001b[1;33m)\u001b[0m\u001b[1;33m\u001b[0m\u001b[0m\n",
      "\u001b[1;31mValueError\u001b[0m: Input X must be non-negative"
     ]
    }
   ],
   "source": [
    "# bernoulli\n",
    "start_time = time.clock()\n",
    "mnb = MultinomialNB()\n",
    "mnb.fit(X_train, y_train)\n",
    "y_Naive = mnb.predict(X_test)\n",
    "\n",
    "# score\n",
    "score_mnb = cross_val_score(mnb, X_pca, Y, cv=10)\n",
    "print(score_mnb)\n",
    "print('Training set score:', mnb.score(X_train, y_train))\n",
    "print('\\nTest set score:', mnb.score(X_test, y_test))\n",
    "\n",
    "# Classification report \n",
    "print(classification_report(y_test, y_Naive))\n",
    "\n",
    "#Confusion matrix \n",
    "print('Confusion matrix')\n",
    "print(confusion_matrix(y_test, y_Naive))\n",
    "\n",
    "# AUC \n",
    "y_pred_proba = mnb.predict_proba(X_test)[::,1]\n",
    "fpr, tpr, _ = metrics.roc_curve(y_test,  y_pred_proba)\n",
    "auc = metrics.roc_auc_score(y_test, y_pred_proba)\n",
    "plt.plot(fpr,tpr,label='auc='+str(auc))\n",
    "plt.legend(loc=4)\n",
    "plt.show()\n",
    "print('\\nRuntime: {} seconds'.format(round((time.clock()-start_time),2)))"
   ]
  },
  {
   "cell_type": "markdown",
   "metadata": {},
   "source": [
    "## KNN Classifier"
   ]
  },
  {
   "cell_type": "code",
   "execution_count": 99,
   "metadata": {},
   "outputs": [
    {
     "name": "stdout",
     "output_type": "stream",
     "text": [
      "[0.7459893  0.73529412 0.72727273 0.72994652 0.71390374 0.72459893\n",
      " 0.77005348 0.74331551 0.7513369  0.7016129 ]\n",
      "Training set score: 0.9988532110091743\n",
      "\n",
      "Test set score: 0.7245989304812834\n",
      "             precision    recall  f1-score   support\n",
      "\n",
      "          0       0.78      0.65      0.71       578\n",
      "          1       0.68      0.80      0.74       544\n",
      "\n",
      "avg / total       0.73      0.72      0.72      1122\n",
      "\n",
      "Confusion matrix\n",
      "[[377 201]\n",
      " [108 436]]\n"
     ]
    },
    {
     "data": {
      "image/png": "[encoded data removed]",
      "text/plain": [
       "<Figure size 432x288 with 1 Axes>"
      ]
     },
     "metadata": {},
     "output_type": "display_data"
    },
    {
     "name": "stdout",
     "output_type": "stream",
     "text": [
      "\n",
      "Runtime: 1.02 seconds\n"
     ]
    }
   ],
   "source": [
    "# Fit the data to knn model \n",
    "start_time = time.clock()\n",
    "neigh = KNeighborsClassifier(n_neighbors=50, weights='distance')\n",
    "neigh.fit(X_train, y_train)\n",
    "y_knn = neigh.predict(X_test)\n",
    "\n",
    "# score\n",
    "score_neigh = cross_val_score(neigh, X_pca, Y, cv=10)\n",
    "print(score_neigh)\n",
    "print('Training set score:', neigh.score(X_train, y_train))\n",
    "print('\\nTest set score:', neigh.score(X_test, y_test))\n",
    "\n",
    "# Classification report \n",
    "print(classification_report(y_test, y_knn))\n",
    "\n",
    "#Confusion matrix \n",
    "print('Confusion matrix')\n",
    "print(confusion_matrix(y_test, y_knn))\n",
    "\n",
    "# AUC \n",
    "y_pred_proba = neigh.predict_proba(X_test)[::,1]\n",
    "fpr, tpr, _ = metrics.roc_curve(y_test,  y_pred_proba)\n",
    "auc = metrics.roc_auc_score(y_test, y_pred_proba)\n",
    "plt.plot(fpr,tpr,label='auc='+str(auc))\n",
    "plt.legend(loc=4)\n",
    "plt.show()\n",
    "print('\\nRuntime: {} seconds'.format(round((time.clock()-start_time),2)))"
   ]
  },
  {
   "cell_type": "markdown",
   "metadata": {},
   "source": [
    "## Logistics Regression"
   ]
  },
  {
   "cell_type": "code",
   "execution_count": 102,
   "metadata": {},
   "outputs": [
    {
     "name": "stdout",
     "output_type": "stream",
     "text": [
      "Training set score: 0.7652905198776758\n",
      "\n",
      "Test set score: 0.7522281639928698\n",
      "[0.77807487 0.76470588 0.73796791 0.75935829 0.75935829 0.74331551\n",
      " 0.78074866 0.77540107 0.7486631  0.73387097]\n",
      "Confusion matrix\n",
      "[[423 155]\n",
      " [123 421]]\n",
      "             precision    recall  f1-score   support\n",
      "\n",
      "          0       0.77      0.73      0.75       578\n",
      "          1       0.73      0.77      0.75       544\n",
      "\n",
      "avg / total       0.75      0.75      0.75      1122\n",
      "\n"
     ]
    },
    {
     "data": {
      "image/png": "[encoded data removed]",
      "text/plain": [
       "<Figure size 432x288 with 1 Axes>"
      ]
     },
     "metadata": {},
     "output_type": "display_data"
    },
    {
     "name": "stdout",
     "output_type": "stream",
     "text": [
      "\n",
      "Runtime: 0.22 seconds\n"
     ]
    }
   ],
   "source": [
    "# Binary classification using logistics regression\n",
    "start_time = time.clock()\n",
    "logreg = LogisticRegression()\n",
    "logreg.fit(X_train, y_train)\n",
    "\n",
    "# Predict using the test set\n",
    "y_logreg = logreg.predict(X_test)\n",
    "\n",
    "# Compare scores for train and test sets\n",
    "print('Training set score:', logreg.score(X_train, y_train))\n",
    "print('\\nTest set score:', logreg.score(X_test, y_test))\n",
    "\n",
    "# Ten fold cross validation score to evaluate the model \n",
    "score_logreg = cross_val_score(logreg, X_pca, Y, cv=10)\n",
    "print(score_logreg)\n",
    "\n",
    "#Confusion matrix for logistics regression classifier\n",
    "print('Confusion matrix')\n",
    "print(confusion_matrix(y_test, y_logreg))\n",
    "\n",
    "# Classification report \n",
    "print(classification_report(y_test, y_logreg))\n",
    "\n",
    "# AUC classifier\n",
    "y_logreg_proba = logreg.predict_proba(X_test)[::,1]\n",
    "fpr_logreg, tpr_logreg, _ = metrics.roc_curve(y_test,  y_logreg)\n",
    "auc_logreg = metrics.roc_auc_score(y_test, y_logreg_proba)\n",
    "plt.plot(fpr_logreg,tpr_logreg,label='auc_logreg='+str(auc_logreg))\n",
    "plt.legend(loc=4)\n",
    "plt.show()\n",
    "print('\\nRuntime: {} seconds'.format(round((time.clock()-start_time),2)))"
   ]
  },
  {
   "cell_type": "markdown",
   "metadata": {},
   "source": [
    "## Ridge Classifier"
   ]
  },
  {
   "cell_type": "code",
   "execution_count": 103,
   "metadata": {},
   "outputs": [
    {
     "name": "stdout",
     "output_type": "stream",
     "text": [
      "[0.78342246 0.7486631  0.73262032 0.76203209 0.76737968 0.73262032\n",
      " 0.77272727 0.77540107 0.75668449 0.72311828]\n",
      "Training set score: 0.7595565749235474\n",
      "\n",
      "Test set score: 0.7477718360071302\n",
      "Confusion matrix\n",
      "[[412 166]\n",
      " [117 427]]\n",
      "             precision    recall  f1-score   support\n",
      "\n",
      "          0       0.78      0.71      0.74       578\n",
      "          1       0.72      0.78      0.75       544\n",
      "\n",
      "avg / total       0.75      0.75      0.75      1122\n",
      "\n"
     ]
    },
    {
     "ename": "AttributeError",
     "evalue": "'RidgeClassifier' object has no attribute 'predict_proba'",
     "output_type": "error",
     "traceback": [
      "\u001b[1;31m---------------------------------------------------------------------------\u001b[0m",
      "\u001b[1;31mAttributeError\u001b[0m                            Traceback (most recent call last)",
      "\u001b[1;32m<ipython-input-103-adaaead805c4>\u001b[0m in \u001b[0;36m<module>\u001b[1;34m()\u001b[0m\n\u001b[0;32m     20\u001b[0m \u001b[1;33m\u001b[0m\u001b[0m\n\u001b[0;32m     21\u001b[0m \u001b[1;31m# AUC\u001b[0m\u001b[1;33m\u001b[0m\u001b[1;33m\u001b[0m\u001b[0m\n\u001b[1;32m---> 22\u001b[1;33m \u001b[0my_ridge_proba\u001b[0m \u001b[1;33m=\u001b[0m \u001b[0mridge\u001b[0m\u001b[1;33m.\u001b[0m\u001b[0mpredict_proba\u001b[0m\u001b[1;33m(\u001b[0m\u001b[0mX_test\u001b[0m\u001b[1;33m)\u001b[0m\u001b[1;33m[\u001b[0m\u001b[1;33m:\u001b[0m\u001b[1;33m:\u001b[0m\u001b[1;33m,\u001b[0m\u001b[1;36m1\u001b[0m\u001b[1;33m]\u001b[0m\u001b[1;33m\u001b[0m\u001b[0m\n\u001b[0m\u001b[0;32m     23\u001b[0m \u001b[0mfpr_ridge\u001b[0m\u001b[1;33m,\u001b[0m \u001b[0mtpr_ridge\u001b[0m\u001b[1;33m,\u001b[0m \u001b[0m_\u001b[0m \u001b[1;33m=\u001b[0m \u001b[0mmetrics\u001b[0m\u001b[1;33m.\u001b[0m\u001b[0mroc_curve\u001b[0m\u001b[1;33m(\u001b[0m\u001b[0my_test\u001b[0m\u001b[1;33m,\u001b[0m  \u001b[0my_ridge\u001b[0m\u001b[1;33m)\u001b[0m\u001b[1;33m\u001b[0m\u001b[0m\n\u001b[0;32m     24\u001b[0m \u001b[0mauc_ridge\u001b[0m \u001b[1;33m=\u001b[0m \u001b[0mmetrics\u001b[0m\u001b[1;33m.\u001b[0m\u001b[0mroc_auc_score\u001b[0m\u001b[1;33m(\u001b[0m\u001b[0my_test\u001b[0m\u001b[1;33m,\u001b[0m \u001b[0my_ridge_proba\u001b[0m\u001b[1;33m)\u001b[0m\u001b[1;33m\u001b[0m\u001b[0m\n",
      "\u001b[1;31mAttributeError\u001b[0m: 'RidgeClassifier' object has no attribute 'predict_proba'"
     ]
    }
   ],
   "source": [
    "# Ridge classifier\n",
    "start_time = time.clock()\n",
    "ridge = RidgeClassifier()\n",
    "ridge.fit(X_train, y_train)\n",
    "\n",
    "y_ridge = ridge.predict(X_test)\n",
    "\n",
    "# Evaluations\n",
    "score_ridge = cross_val_score(ridge, X_pca, Y, cv=10)\n",
    "print(score_ridge)\n",
    "print('Training set score:', ridge.score(X_train, y_train))\n",
    "print('\\nTest set score:', ridge.score(X_test, y_test))\n",
    "\n",
    "#Confusion matrix for logistics regression classifier\n",
    "print('Confusion matrix')\n",
    "print(confusion_matrix(y_test, y_ridge))\n",
    "\n",
    "# Classification report \n",
    "print(classification_report(y_test, y_ridge)) \n",
    "\n",
    "# AUC\n",
    "y_ridge_proba = ridge.predict_proba(X_test)[::,1]\n",
    "fpr_ridge, tpr_ridge, _ = metrics.roc_curve(y_test,  y_ridge)\n",
    "auc_ridge = metrics.roc_auc_score(y_test, y_ridge_proba)\n",
    "plt.plot(fpr_ridge,tpr_ridge,label='auc_ridge='+str(auc_ridge))\n",
    "plt.legend(loc=4)\n",
    "plt.show()\n",
    "print('\\nRuntime: {} seconds'.format(round((time.clock()-start_time),2)))"
   ]
  },
  {
   "cell_type": "markdown",
   "metadata": {},
   "source": [
    "## Lasso"
   ]
  },
  {
   "cell_type": "code",
   "execution_count": 104,
   "metadata": {},
   "outputs": [
    {
     "name": "stdout",
     "output_type": "stream",
     "text": [
      "Training set score: 0.764525993883792\n",
      "\n",
      "Test set score: 0.7522281639928698\n",
      "[0.77807487 0.76470588 0.73529412 0.75935829 0.75668449 0.74064171\n",
      " 0.77807487 0.77540107 0.7486631  0.73387097]\n",
      "Confusion matrix\n",
      "[[423 155]\n",
      " [123 421]]\n",
      "             precision    recall  f1-score   support\n",
      "\n",
      "          0       0.77      0.73      0.75       578\n",
      "          1       0.73      0.77      0.75       544\n",
      "\n",
      "avg / total       0.75      0.75      0.75      1122\n",
      "\n"
     ]
    },
    {
     "data": {
      "image/png": "[encoded data removed]",
      "text/plain": [
       "<Figure size 432x288 with 1 Axes>"
      ]
     },
     "metadata": {},
     "output_type": "display_data"
    },
    {
     "name": "stdout",
     "output_type": "stream",
     "text": [
      "\n",
      "Runtime: 0.21 seconds\n"
     ]
    }
   ],
   "source": [
    "start_time = time.clock()\n",
    "lasso = LogisticRegression(penalty='l1')\n",
    "lasso.fit(X_train, y_train)\n",
    "\n",
    "y_lasso = lasso.predict(X_test)\n",
    "\n",
    "# Evaluations\n",
    "print('Training set score:', lasso.score(X_train, y_train))\n",
    "print('\\nTest set score:', lasso.score(X_test, y_test))\n",
    "\n",
    "score_lasso = cross_val_score(lasso, X_pca, Y, cv=10)\n",
    "print(score_lasso)\n",
    "\n",
    "#Confusion matrix for logistics regression classifier\n",
    "print('Confusion matrix')\n",
    "print(confusion_matrix(y_test, y_lasso))\n",
    "\n",
    "# Classification report \n",
    "print(classification_report(y_test, y_lasso))\n",
    "\n",
    "# AUC\n",
    "y_lasso_proba = lasso.predict_proba(X_test)[::,1]\n",
    "fpr_lasso, tpr_lasso, _ = metrics.roc_curve(y_test,  y_lasso)\n",
    "auc_lasso = metrics.roc_auc_score(y_test, y_lasso_proba)\n",
    "plt.plot(fpr_lasso,tpr_lasso,label='auc_lasso='+str(auc_lasso))\n",
    "plt.legend(loc=4)\n",
    "plt.show()\n",
    "print('\\nRuntime: {} seconds'.format(round((time.clock()-start_time),2)))"
   ]
  },
  {
   "cell_type": "markdown",
   "metadata": {},
   "source": [
    "## Decision Tree"
   ]
  },
  {
   "cell_type": "code",
   "execution_count": 105,
   "metadata": {},
   "outputs": [
    {
     "name": "stdout",
     "output_type": "stream",
     "text": [
      "tree_para: {'criterion': 'gini', 'max_depth': 4}\n",
      "Training set score: 0.7779051987767585\n",
      "\n",
      "Test set score: 0.7335115864527629\n",
      "[0.76203209 0.78074866 0.72994652 0.76470588 0.72994652 0.74064171\n",
      " 0.74331551 0.7513369  0.7513369  0.71236559]\n",
      "Confusion matrix\n",
      "[[405 173]\n",
      " [126 418]]\n",
      "             precision    recall  f1-score   support\n",
      "\n",
      "          0       0.76      0.70      0.73       578\n",
      "          1       0.71      0.77      0.74       544\n",
      "\n",
      "avg / total       0.74      0.73      0.73      1122\n",
      "\n"
     ]
    },
    {
     "data": {
      "image/png": "[encoded data removed]",
      "text/plain": [
       "<Figure size 432x288 with 1 Axes>"
      ]
     },
     "metadata": {},
     "output_type": "display_data"
    },
    {
     "name": "stdout",
     "output_type": "stream",
     "text": [
      "\n",
      "Runtime: 24.22 seconds\n"
     ]
    }
   ],
   "source": [
    "# Decision tree using GridSearchCV parameters\n",
    "start_time = time.clock()\n",
    "tree_para = {'criterion':['gini','entropy'],'max_depth':[4,5,6,7,8,9,10,11,12,15,20,30,40,50,70,90,120,150,200,300,350,400,500]}\n",
    "tree = GridSearchCV(DecisionTreeClassifier(), tree_para, cv=10)\n",
    "grid_fit = tree.fit(X_train, y_train)\n",
    "\n",
    "best_tree = grid_fit.best_estimator_\n",
    "y_tree = best_tree.predict(X_test)\n",
    "\n",
    "#print best parameters\n",
    "print('tree_para:', tree.best_params_)\n",
    "\n",
    "# Evaluations\n",
    "print('Training set score:', best_tree.score(X_train, y_train))\n",
    "print('\\nTest set score:', best_tree.score(X_test, y_test))\n",
    "\n",
    "score_tree = cross_val_score(best_tree, X_pca, Y, cv=10)\n",
    "print(score_tree)\n",
    "\n",
    "#Confusion matrix for decision tree\n",
    "print('Confusion matrix')\n",
    "print(confusion_matrix(y_test, y_tree))\n",
    "\n",
    "# Classification report \n",
    "print(classification_report(y_test, y_tree))\n",
    "\n",
    "# AUC for decision tree classifier\n",
    "y_tree_proba = best_tree.predict_proba(X_test)[::,1]\n",
    "fpr_tree, tpr_tree, _ = metrics.roc_curve(y_test,  y_tree)\n",
    "auc_tree = metrics.roc_auc_score(y_test, y_tree_proba)\n",
    "plt.plot(fpr_tree,tpr_tree,label='auc_tree='+str(auc_tree))\n",
    "plt.legend(loc=4)\n",
    "plt.show()\n",
    "print('\\nRuntime: {} seconds'.format(round((time.clock()-start_time),2)))"
   ]
  },
  {
   "cell_type": "markdown",
   "metadata": {},
   "source": [
    "## Random Forest"
   ]
  },
  {
   "cell_type": "code",
   "execution_count": 106,
   "metadata": {},
   "outputs": [
    {
     "name": "stdout",
     "output_type": "stream",
     "text": [
      "forest_para: {'criterion': 'gini', 'max_depth': 4, 'n_estimators': 100}\n",
      "[0.77272727 0.75935829 0.74064171 0.75935829 0.72192513 0.73262032\n",
      " 0.7540107  0.76737968 0.7513369  0.72311828]\n",
      "Confusion matrix\n",
      "[[438 140]\n",
      " [139 405]]\n",
      "             precision    recall  f1-score   support\n",
      "\n",
      "          0       0.76      0.76      0.76       578\n",
      "          1       0.74      0.74      0.74       544\n",
      "\n",
      "avg / total       0.75      0.75      0.75      1122\n",
      "\n"
     ]
    },
    {
     "data": {
      "image/png": "[encoded data removed]",
      "text/plain": [
       "<Figure size 432x288 with 1 Axes>"
      ]
     },
     "metadata": {},
     "output_type": "display_data"
    },
    {
     "name": "stdout",
     "output_type": "stream",
     "text": [
      "\n",
      "Runtime: 4687.63 seconds\n"
     ]
    }
   ],
   "source": [
    "# Random forest with GridsearchCV\n",
    "start_time = time.clock()\n",
    "forest_para = {'criterion':['gini','entropy'],'n_estimators':[10,20,50,70,100,250,400,500],'max_depth':[4,5,6,7,8,9,10,11,12,15,20,30,40,50,70,90,120,150, 200,300,400,500]}\n",
    "forest = GridSearchCV(ensemble.RandomForestClassifier(), forest_para, cv=10)\n",
    "grid_fit_forest = forest.fit(X_train, y_train)\n",
    "\n",
    "best_forest = grid_fit_forest.best_estimator_\n",
    "y_forest = best_forest.predict(X_test)\n",
    "\n",
    "#Print best parameters\n",
    "print('forest_para:', forest.best_params_)\n",
    "\n",
    "# Evaluations\n",
    "score_forest = cross_val_score(best_forest, X_pca, Y, cv=10)\n",
    "print(score_forest)\n",
    "\n",
    "#Confusion matrix for random forest\n",
    "print('Confusion matrix')\n",
    "print(confusion_matrix(y_test, y_forest))\n",
    "\n",
    "# Classification report \n",
    "print(classification_report(y_test, y_forest))\n",
    "\n",
    "# AUC for random forest classifier\n",
    "y_forest_proba = forest.predict_proba(X_test)[::,1]\n",
    "fpr_forest, tpr_forest, _ = metrics.roc_curve(y_test,  y_forest)\n",
    "auc_forest = metrics.roc_auc_score(y_test, y_forest_proba)\n",
    "plt.plot(fpr_forest,tpr_forest,label='auc_forest='+str(auc_forest))\n",
    "plt.legend(loc=4)\n",
    "plt.show()\n",
    "print('\\nRuntime: {} seconds'.format(round((time.clock()-start_time),2)))"
   ]
  },
  {
   "cell_type": "markdown",
   "metadata": {},
   "source": [
    "## Support Vector Classifier (SVC)"
   ]
  },
  {
   "cell_type": "code",
   "execution_count": 107,
   "metadata": {},
   "outputs": [
    {
     "name": "stdout",
     "output_type": "stream",
     "text": [
      "[0.77272727 0.75935829 0.74064171 0.75935829 0.72192513 0.73262032\n",
      " 0.7540107  0.76737968 0.7513369  0.72311828]\n",
      "Training set score: 0.7656727828746177\n",
      "\n",
      "Test set score: 0.7468805704099821\n",
      "Confusion matrix\n",
      "[[413 165]\n",
      " [119 425]]\n",
      "             precision    recall  f1-score   support\n",
      "\n",
      "          0       0.78      0.71      0.74       578\n",
      "          1       0.72      0.78      0.75       544\n",
      "\n",
      "avg / total       0.75      0.75      0.75      1122\n",
      "\n"
     ]
    },
    {
     "data": {
      "image/png": "[encoded data removed]",
      "text/plain": [
       "<Figure size 432x288 with 1 Axes>"
      ]
     },
     "metadata": {},
     "output_type": "display_data"
    },
    {
     "name": "stdout",
     "output_type": "stream",
     "text": [
      "\n",
      "Runtime: 1202.75 seconds\n"
     ]
    }
   ],
   "source": [
    "# Set the parameters by cross-validation\n",
    "# reference http://scikit-learn.org/stable/auto_examples/model_selection/plot_grid_search_digits.html\n",
    "start_time = time.clock()\n",
    "tuned_parameters = [{'kernel': ['rbf'], 'gamma': [1e-3, 1e-4],\n",
    "                     'C': [1, 10, 100, 1000]},\n",
    "                    {'kernel': ['rbf'], 'C': [1, 10, 100, 500]}]\n",
    "clf = GridSearchCV(SVC(probability=True), tuned_parameters, cv=5)\n",
    "clf.fit(X_train, y_train)\n",
    "\n",
    "clf.best_params_\n",
    "\n",
    "#best_forest = grid_fit_forest.best_estimator_\n",
    "y_svc = clf.predict(X_test)\n",
    "\n",
    "# Evaluations\n",
    "score_clf = cross_val_score(clf, X_pca, Y, cv=10)\n",
    "print(score_forest)\n",
    "\n",
    "print('Training set score:', clf.score(X_train, y_train))\n",
    "print('\\nTest set score:', clf.score(X_test, y_test))\n",
    "\n",
    "#Confusion matrix for logistics regression classifier\n",
    "print('Confusion matrix')\n",
    "print(confusion_matrix(y_test, y_svc))\n",
    "\n",
    "# Classification report \n",
    "print(classification_report(y_test, y_svc))\n",
    "\n",
    "# AUC\n",
    "y_svc_proba = clf.predict_proba(X_test)[::,1]\n",
    "fpr_clf, tpr_clf, _ = metrics.roc_curve(y_test,  y_svc)\n",
    "auc_svc = metrics.roc_auc_score(y_test, y_svc_proba)\n",
    "plt.plot(fpr_clf,tpr_clf,label='auc_lasso='+str(auc_svc))\n",
    "plt.legend(loc=4)\n",
    "plt.show()\n",
    "print('\\nRuntime: {} seconds'.format(round((time.clock()-start_time),2)))"
   ]
  },
  {
   "cell_type": "markdown",
   "metadata": {},
   "source": [
    "## Gradient Boost Classifier "
   ]
  },
  {
   "cell_type": "code",
   "execution_count": 108,
   "metadata": {},
   "outputs": [
    {
     "name": "stdout",
     "output_type": "stream",
     "text": [
      "{'learning_rate': [0.1, 0.05, 0.02, 0.01], 'max_depth': [4, 6, 8], 'min_samples_leaf': [20, 50, 100, 150]}\n",
      "Fitting 5 folds for each of 48 candidates, totalling 240 fits\n"
     ]
    },
    {
     "name": "stderr",
     "output_type": "stream",
     "text": [
      "[Parallel(n_jobs=10)]: Done  12 tasks      | elapsed:   31.1s\n",
      "[Parallel(n_jobs=10)]: Done 108 tasks      | elapsed:  2.2min\n",
      "[Parallel(n_jobs=10)]: Done 240 out of 240 | elapsed:  4.4min finished\n"
     ]
    },
    {
     "name": "stdout",
     "output_type": "stream",
     "text": [
      "Fitting 5 folds for each of 48 candidates, totalling 240 fits\n"
     ]
    },
    {
     "name": "stderr",
     "output_type": "stream",
     "text": [
      "[Parallel(n_jobs=10)]: Done  12 tasks      | elapsed:   32.7s\n",
      "[Parallel(n_jobs=10)]: Done 108 tasks      | elapsed:  2.5min\n",
      "[Parallel(n_jobs=10)]: Done 240 out of 240 | elapsed:  5.1min finished\n"
     ]
    },
    {
     "name": "stdout",
     "output_type": "stream",
     "text": [
      "Fitting 5 folds for each of 48 candidates, totalling 240 fits\n"
     ]
    },
    {
     "name": "stderr",
     "output_type": "stream",
     "text": [
      "[Parallel(n_jobs=10)]: Done  12 tasks      | elapsed:   32.7s\n",
      "[Parallel(n_jobs=10)]: Done 108 tasks      | elapsed:  2.5min\n",
      "[Parallel(n_jobs=10)]: Done 240 out of 240 | elapsed:  5.2min finished\n"
     ]
    },
    {
     "name": "stdout",
     "output_type": "stream",
     "text": [
      "Fitting 5 folds for each of 48 candidates, totalling 240 fits\n"
     ]
    },
    {
     "name": "stderr",
     "output_type": "stream",
     "text": [
      "[Parallel(n_jobs=10)]: Done  12 tasks      | elapsed:   32.2s\n",
      "[Parallel(n_jobs=10)]: Done 108 tasks      | elapsed:  2.5min\n",
      "[Parallel(n_jobs=10)]: Done 240 out of 240 | elapsed:  5.2min finished\n"
     ]
    },
    {
     "name": "stdout",
     "output_type": "stream",
     "text": [
      "Fitting 5 folds for each of 48 candidates, totalling 240 fits\n"
     ]
    },
    {
     "name": "stderr",
     "output_type": "stream",
     "text": [
      "[Parallel(n_jobs=10)]: Done  12 tasks      | elapsed:   32.6s\n",
      "[Parallel(n_jobs=10)]: Done 108 tasks      | elapsed:  2.5min\n",
      "[Parallel(n_jobs=10)]: Done 240 out of 240 | elapsed:  5.2min finished\n"
     ]
    },
    {
     "name": "stdout",
     "output_type": "stream",
     "text": [
      "Fitting 5 folds for each of 48 candidates, totalling 240 fits\n"
     ]
    },
    {
     "name": "stderr",
     "output_type": "stream",
     "text": [
      "[Parallel(n_jobs=10)]: Done  12 tasks      | elapsed:   32.7s\n",
      "[Parallel(n_jobs=10)]: Done 108 tasks      | elapsed:  2.5min\n",
      "[Parallel(n_jobs=10)]: Done 240 out of 240 | elapsed:  5.3min finished\n"
     ]
    },
    {
     "name": "stdout",
     "output_type": "stream",
     "text": [
      "[0.85091081 0.83092525 0.81200492 0.83650519 0.8227652 ]\n",
      "Confusion matrix\n",
      "[[420 158]\n",
      " [127 417]]\n",
      "             precision    recall  f1-score   support\n",
      "\n",
      "          0       0.77      0.73      0.75       578\n",
      "          1       0.73      0.77      0.75       544\n",
      "\n",
      "avg / total       0.75      0.75      0.75      1122\n",
      "\n"
     ]
    },
    {
     "data": {
      "image/png": "[encoded data removed]",
      "text/plain": [
       "<Figure size 432x288 with 1 Axes>"
      ]
     },
     "metadata": {},
     "output_type": "display_data"
    },
    {
     "name": "stdout",
     "output_type": "stream",
     "text": [
      "\n",
      "Runtime: 1846.85 seconds\n"
     ]
    }
   ],
   "source": [
    "start_time = time.clock()\n",
    "gb_grid_params = {'learning_rate': [0.1, 0.05, 0.02, 0.01],\n",
    "              'max_depth': [4, 6, 8],\n",
    "              'min_samples_leaf': [20, 50,100,150],\n",
    "              #'max_features': [1.0, 0.3, 0.1] \n",
    "              }\n",
    "print(gb_grid_params)\n",
    "\n",
    "gb_gs = ensemble.GradientBoostingClassifier(n_estimators = 500)\n",
    "\n",
    "gb_clf = GridSearchCV(gb_gs,\n",
    "                   gb_grid_params,\n",
    "                   cv=5,\n",
    "                   scoring='roc_auc',\n",
    "                   verbose = 3,\n",
    "                   n_jobs=10);\n",
    "gb_clf.fit(X_train, y_train)\n",
    "predict_train = gb_clf.predict(X_train)\n",
    "predict_test = gb_clf.predict(X_test)\n",
    "\n",
    "\n",
    "# Evaluations\n",
    "score_gb = cross_val_score(gb_clf, X_pca, Y, cv=5)\n",
    "print(score_gb)\n",
    "\n",
    "#print('Training set score:', gb_clf.score(X_train, y_train))\n",
    "#print('\\nTest set score:', gb_clf.score(X_test, y_test))\n",
    "\n",
    "#Confusion matrix for logistics regression classifier\n",
    "print('Confusion matrix')\n",
    "print(confusion_matrix(y_test, predict_test))\n",
    "\n",
    "# Classification report \n",
    "print(classification_report(y_test, predict_test))\n",
    "\n",
    "# AUC\n",
    "y_gb_proba = gb_clf.predict_proba(X_test)[::,1]\n",
    "fpr_gb, tpr_gb, _ = metrics.roc_curve(y_test,  predict_test)\n",
    "auc_gb = metrics.roc_auc_score(y_test, y_gb_proba)\n",
    "plt.plot(fpr_gb,tpr_gb,label='auc_gb='+str(auc_gb))\n",
    "plt.legend(loc=4)\n",
    "plt.show()\n",
    "print('\\nRuntime: {} seconds'.format(round((time.clock()-start_time),2)))"
   ]
  },
  {
   "cell_type": "code",
   "execution_count": null,
   "metadata": {},
   "outputs": [],
   "source": []
  },
  {
   "cell_type": "code",
   "execution_count": null,
   "metadata": {},
   "outputs": [],
   "source": []
  },
  {
   "cell_type": "code",
   "execution_count": null,
   "metadata": {},
   "outputs": [],
   "source": []
  },
  {
   "cell_type": "code",
   "execution_count": null,
   "metadata": {},
   "outputs": [],
   "source": []
  }
 ],
 "metadata": {
  "kernelspec": {
   "display_name": "Python 3",
   "language": "python",
   "name": "python3"
  },
  "language_info": {
   "codemirror_mode": {
    "name": "ipython",
    "version": 3
   },
   "file_extension": ".py",
   "mimetype": "text/x-python",
   "name": "python",
   "nbconvert_exporter": "python",
   "pygments_lexer": "ipython3",
   "version": "3.6.5"
  }
 },
 "nbformat": 4,
 "nbformat_minor": 2
}
